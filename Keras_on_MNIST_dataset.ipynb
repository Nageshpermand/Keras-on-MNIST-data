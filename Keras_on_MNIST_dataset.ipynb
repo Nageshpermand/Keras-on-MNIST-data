{
 "cells": [
  {
   "cell_type": "markdown",
   "metadata": {
    "colab_type": "text",
    "id": "bEFkZnASseVS"
   },
   "source": [
    "# About MNIST Dataset"
   ]
  },
  {
   "cell_type": "markdown",
   "metadata": {
    "colab_type": "text",
    "id": "8RKtidBCsqJ7"
   },
   "source": [
    "The MNIST database contains 60,000 training images and 10,000 testing images.\n",
    "The set of images in the MNIST database is a combination of two of NIST's databases: Special Database 1 and Special Database 3. Special Database 1 and Special Database 3 consist of digits written by high school students and employees of the United States Census Bureau, respectively.\n",
    "Some researchers have achieved \"near-human performance\" on the MNIST database, using a committee of neural networks; in the same paper, the authors achieve performance double that of humans on other recognition tasks.\n",
    "\n",
    "\n",
    "https://en.wikipedia.org/wiki/MNIST_database"
   ]
  },
  {
   "cell_type": "markdown",
   "metadata": {
    "colab_type": "text",
    "id": "zrEEYDFjtqE-"
   },
   "source": [
    "## Keras -- multilayer perceptron on MNIST"
   ]
  },
  {
   "cell_type": "markdown",
   "metadata": {
    "colab_type": "text",
    "id": "MSn9u7bVt_Jt"
   },
   "source": [
    "### importing all necessary modules"
   ]
  },
  {
   "cell_type": "code",
   "execution_count": 0,
   "metadata": {
    "colab": {},
    "colab_type": "code",
    "id": "DrHt6YQBt4W9"
   },
   "outputs": [],
   "source": [
    "%matplotlib inline\n",
    "from keras.utils import np_utils \n",
    "from keras.datasets import mnist               #download  mnist dataset direct from keras datasets\n",
    "from keras.initializers import RandomNormal    #for weights initialize\n",
    "import seaborn as sns\n",
    "import warnings \n",
    "warnings.filterwarnings('ignore')\n",
    "%matplotlib notebook\n",
    "import matplotlib.pyplot as plt\n",
    "import numpy as np\n",
    "import time"
   ]
  },
  {
   "cell_type": "code",
   "execution_count": 0,
   "metadata": {
    "colab": {},
    "colab_type": "code",
    "id": "WJ9nAXpsuh2C"
   },
   "outputs": [],
   "source": [
    "# https://gist.github.com/greydanus/f6eee59eaf1d90fcb3b534a25362cea4\n",
    "# https://stackoverflow.com/a/14434334\n",
    "# this function is used to update the plots for each epoch and error\n",
    "def plt_dynamic(x, vy, ty, ax, colors=['b']):\n",
    "    ax.plot(x, vy, 'b', label=\"Validation Loss\")\n",
    "    ax.plot(x, ty, 'r', label=\"Train Loss\")\n",
    "    plt.legend()\n",
    "    plt.grid()\n",
    "    fig.canvas.draw()\n",
    "    "
   ]
  },
  {
   "cell_type": "markdown",
   "metadata": {
    "colab_type": "text",
    "id": "QTNA00WxvlGD"
   },
   "source": [
    "### load the dataset and split the data"
   ]
  },
  {
   "cell_type": "code",
   "execution_count": 8,
   "metadata": {
    "colab": {
     "base_uri": "https://localhost:8080/",
     "height": 52
    },
    "colab_type": "code",
    "id": "ZyHAe2y8vTDX",
    "outputId": "5f4debd8-bea8-423c-edea-572beadb5205"
   },
   "outputs": [
    {
     "name": "stdout",
     "output_type": "stream",
     "text": [
      "Downloading data from https://s3.amazonaws.com/img-datasets/mnist.npz\n",
      "11493376/11490434 [==============================] - 1s 0us/step\n"
     ]
    }
   ],
   "source": [
    "# the data, shuffled and split between train and test sets \n",
    "(X_train, y_train), (X_test, y_test) = mnist.load_data()"
   ]
  },
  {
   "cell_type": "code",
   "execution_count": 9,
   "metadata": {
    "colab": {
     "base_uri": "https://localhost:8080/",
     "height": 52
    },
    "colab_type": "code",
    "id": "d2q1jRALvv0e",
    "outputId": "8d533018-2e97-4987-dcd3-18afa84c6b56"
   },
   "outputs": [
    {
     "name": "stdout",
     "output_type": "stream",
     "text": [
      "Number of training examples : 60000 and each image is of shape (28, 28)\n",
      "Number of training examples : 10000 and each image is of shape (28, 28)\n"
     ]
    }
   ],
   "source": [
    "print(\"Number of training examples :\", X_train.shape[0], \"and each image is of shape (%d, %d)\"%(X_train.shape[1], X_train.shape[2]))\n",
    "print(\"Number of training examples :\", X_test.shape[0], \"and each image is of shape (%d, %d)\"%(X_test.shape[1], X_test.shape[2]))"
   ]
  },
  {
   "cell_type": "markdown",
   "metadata": {
    "colab_type": "text",
    "id": "5KFGbXf3wwGI"
   },
   "source": [
    "### we have to conver 28*28 into single vector 784 dimensinal vector"
   ]
  },
  {
   "cell_type": "code",
   "execution_count": 0,
   "metadata": {
    "colab": {},
    "colab_type": "code",
    "id": "bLztpIRrwdn9"
   },
   "outputs": [],
   "source": [
    "# if you observe the input shape its 2 dimensional vector\n",
    "# for each image we have a (28*28) vector\n",
    "# we will convert the (28*28) vector into single dimensional vector of 1 * 784 \n",
    "\n",
    "X_train = X_train.reshape(X_train.shape[0], X_train.shape[1]*X_train.shape[2]) \n",
    "X_test = X_test.reshape(X_test.shape[0], X_test.shape[1]*X_test.shape[2]) "
   ]
  },
  {
   "cell_type": "code",
   "execution_count": 11,
   "metadata": {
    "colab": {
     "base_uri": "https://localhost:8080/",
     "height": 52
    },
    "colab_type": "code",
    "id": "zueoMgnNw8hM",
    "outputId": "99b3ed72-a65e-445b-eafa-2344746483c9"
   },
   "outputs": [
    {
     "name": "stdout",
     "output_type": "stream",
     "text": [
      "Number of training examples : 60000 and each image is of shape (784)\n",
      "Number of training examples : 10000 and each image is of shape (784)\n"
     ]
    }
   ],
   "source": [
    "# after converting the input images from 3d to 2d vectors\n",
    "\n",
    "print(\"Number of training examples :\", X_train.shape[0], \"and each image is of shape (%d)\"%(X_train.shape[1]))\n",
    "print(\"Number of training examples :\", X_test.shape[0], \"and each image is of shape (%d)\"%(X_test.shape[1]))"
   ]
  },
  {
   "cell_type": "code",
   "execution_count": 12,
   "metadata": {
    "colab": {
     "base_uri": "https://localhost:8080/",
     "height": 781
    },
    "colab_type": "code",
    "id": "MJ8cMKZSxAsx",
    "outputId": "10039fad-9b21-46ec-e77b-5e4902d7f4d8"
   },
   "outputs": [
    {
     "name": "stdout",
     "output_type": "stream",
     "text": [
      "[  0   0   0   0   0   0   0   0   0   0   0   0   0   0   0   0   0   0\n",
      "   0   0   0   0   0   0   0   0   0   0   0   0   0   0   0   0   0   0\n",
      "   0   0   0   0   0   0   0   0   0   0   0   0   0   0   0   0   0   0\n",
      "   0   0   0   0   0   0   0   0   0   0   0   0   0   0   0   0   0   0\n",
      "   0   0   0   0   0   0   0   0   0   0   0   0   0   0   0   0   0   0\n",
      "   0   0   0   0   0   0   0   0   0   0   0   0   0   0   0   0   0   0\n",
      "   0   0   0   0   0   0   0   0   0   0   0   0   0   0   0   0   0   0\n",
      "   0   0   0   0   0   0   0   0   0   0   0   0   0   0   0   0   0   0\n",
      "   0   0   0   0   0   0   0   0   0   0   0   0   0   0   0   0   0   0\n",
      "   0   0   0   0   0   0   0   0   0   0   0   0   0   0   0   0   0   0\n",
      "   0   0   0   0   0   0   0   0   0   0   0   0   0   0   0   0   0   0\n",
      "   0   0   0   0   0   0   0   0   0   0  55 148 210 253 253 113  87 148\n",
      "  55   0   0   0   0   0   0   0   0   0   0   0   0   0   0   0   0   0\n",
      "   0  87 232 252 253 189 210 252 252 253 168   0   0   0   0   0   0   0\n",
      "   0   0   0   0   0   0   0   0   0   4  57 242 252 190  65   5  12 182\n",
      " 252 253 116   0   0   0   0   0   0   0   0   0   0   0   0   0   0   0\n",
      "   0  96 252 252 183  14   0   0  92 252 252 225  21   0   0   0   0   0\n",
      "   0   0   0   0   0   0   0   0   0   0 132 253 252 146  14   0   0   0\n",
      " 215 252 252  79   0   0   0   0   0   0   0   0   0   0   0   0   0   0\n",
      "   0 126 253 247 176   9   0   0   8  78 245 253 129   0   0   0   0   0\n",
      "   0   0   0   0   0   0   0   0   0   0  16 232 252 176   0   0   0  36\n",
      " 201 252 252 169  11   0   0   0   0   0   0   0   0   0   0   0   0   0\n",
      "   0   0  22 252 252  30  22 119 197 241 253 252 251  77   0   0   0   0\n",
      "   0   0   0   0   0   0   0   0   0   0   0   0  16 231 252 253 252 252\n",
      " 252 226 227 252 231   0   0   0   0   0   0   0   0   0   0   0   0   0\n",
      "   0   0   0   0   0  55 235 253 217 138  42  24 192 252 143   0   0   0\n",
      "   0   0   0   0   0   0   0   0   0   0   0   0   0   0   0   0   0   0\n",
      "   0   0   0  62 255 253 109   0   0   0   0   0   0   0   0   0   0   0\n",
      "   0   0   0   0   0   0   0   0   0   0   0   0   0  71 253 252  21   0\n",
      "   0   0   0   0   0   0   0   0   0   0   0   0   0   0   0   0   0   0\n",
      "   0   0   0   0   0   0 253 252  21   0   0   0   0   0   0   0   0   0\n",
      "   0   0   0   0   0   0   0   0   0   0   0   0   0   0   0  71 253 252\n",
      "  21   0   0   0   0   0   0   0   0   0   0   0   0   0   0   0   0   0\n",
      "   0   0   0   0   0   0   0 106 253 252  21   0   0   0   0   0   0   0\n",
      "   0   0   0   0   0   0   0   0   0   0   0   0   0   0   0   0   0  45\n",
      " 255 253  21   0   0   0   0   0   0   0   0   0   0   0   0   0   0   0\n",
      "   0   0   0   0   0   0   0   0   0   0 218 252  56   0   0   0   0   0\n",
      "   0   0   0   0   0   0   0   0   0   0   0   0   0   0   0   0   0   0\n",
      "   0   0  96 252 189  42   0   0   0   0   0   0   0   0   0   0   0   0\n",
      "   0   0   0   0   0   0   0   0   0   0   0   0  14 184 252 170  11   0\n",
      "   0   0   0   0   0   0   0   0   0   0   0   0   0   0   0   0   0   0\n",
      "   0   0   0   0   0  14 147 252  42   0   0   0   0   0   0   0   0   0\n",
      "   0   0   0   0   0   0   0   0   0   0   0   0   0   0   0   0   0   0\n",
      "   0   0   0   0   0   0   0   0   0   0]\n"
     ]
    }
   ],
   "source": [
    "# An example data point\n",
    "print(X_train[4])"
   ]
  },
  {
   "cell_type": "markdown",
   "metadata": {
    "colab_type": "text",
    "id": "oB60E4r5xJlL"
   },
   "source": [
    "in above result each datapoint contains 784 dimensions \n",
    "\n",
    "0 implies white colur ant 255 implies black colour"
   ]
  },
  {
   "cell_type": "markdown",
   "metadata": {
    "colab_type": "text",
    "id": "mL3iJ8emx1Qa"
   },
   "source": [
    "## Normalize the data"
   ]
  },
  {
   "cell_type": "code",
   "execution_count": 0,
   "metadata": {
    "colab": {},
    "colab_type": "code",
    "id": "wlGS17XmxF3g"
   },
   "outputs": [],
   "source": [
    "# before we move to apply machine learning algorithms lets try to normalize the data\n",
    "# X => (X - Xmin)/(Xmax-Xmin) = X/255\n",
    "\n",
    "X_train = X_train/255\n",
    "X_test = X_test/255"
   ]
  },
  {
   "cell_type": "code",
   "execution_count": 14,
   "metadata": {
    "colab": {
     "base_uri": "https://localhost:8080/",
     "height": 1000
    },
    "colab_type": "code",
    "id": "LxajeEELx8aT",
    "outputId": "3c59de40-57a6-43fb-cb7d-1cd7db810b39"
   },
   "outputs": [
    {
     "name": "stdout",
     "output_type": "stream",
     "text": [
      "[0.         0.         0.         0.         0.         0.\n",
      " 0.         0.         0.         0.         0.         0.\n",
      " 0.         0.         0.         0.         0.         0.\n",
      " 0.         0.         0.         0.         0.         0.\n",
      " 0.         0.         0.         0.         0.         0.\n",
      " 0.         0.         0.         0.         0.         0.\n",
      " 0.         0.         0.         0.         0.         0.\n",
      " 0.         0.         0.         0.         0.         0.\n",
      " 0.         0.         0.         0.         0.         0.\n",
      " 0.         0.         0.         0.         0.         0.\n",
      " 0.         0.         0.         0.         0.         0.\n",
      " 0.         0.         0.         0.         0.         0.\n",
      " 0.         0.         0.         0.         0.         0.\n",
      " 0.         0.         0.         0.         0.         0.\n",
      " 0.         0.         0.         0.         0.         0.\n",
      " 0.         0.         0.         0.         0.         0.\n",
      " 0.         0.         0.         0.         0.         0.\n",
      " 0.         0.         0.         0.         0.         0.\n",
      " 0.         0.         0.         0.         0.         0.\n",
      " 0.         0.         0.         0.         0.         0.\n",
      " 0.         0.         0.         0.         0.         0.\n",
      " 0.         0.         0.         0.         0.         0.\n",
      " 0.         0.         0.         0.         0.         0.\n",
      " 0.         0.         0.         0.         0.         0.\n",
      " 0.         0.         0.         0.         0.         0.\n",
      " 0.         0.         0.         0.         0.         0.\n",
      " 0.         0.         0.         0.         0.         0.\n",
      " 0.         0.         0.         0.         0.         0.\n",
      " 0.         0.         0.         0.         0.         0.\n",
      " 0.         0.         0.         0.         0.         0.\n",
      " 0.         0.         0.         0.         0.         0.\n",
      " 0.         0.         0.         0.         0.         0.\n",
      " 0.         0.         0.         0.         0.         0.\n",
      " 0.         0.         0.         0.         0.         0.\n",
      " 0.         0.         0.         0.         0.21568627 0.58039216\n",
      " 0.82352941 0.99215686 0.99215686 0.44313725 0.34117647 0.58039216\n",
      " 0.21568627 0.         0.         0.         0.         0.\n",
      " 0.         0.         0.         0.         0.         0.\n",
      " 0.         0.         0.         0.         0.         0.\n",
      " 0.         0.34117647 0.90980392 0.98823529 0.99215686 0.74117647\n",
      " 0.82352941 0.98823529 0.98823529 0.99215686 0.65882353 0.\n",
      " 0.         0.         0.         0.         0.         0.\n",
      " 0.         0.         0.         0.         0.         0.\n",
      " 0.         0.         0.         0.01568627 0.22352941 0.94901961\n",
      " 0.98823529 0.74509804 0.25490196 0.01960784 0.04705882 0.71372549\n",
      " 0.98823529 0.99215686 0.45490196 0.         0.         0.\n",
      " 0.         0.         0.         0.         0.         0.\n",
      " 0.         0.         0.         0.         0.         0.\n",
      " 0.         0.37647059 0.98823529 0.98823529 0.71764706 0.05490196\n",
      " 0.         0.         0.36078431 0.98823529 0.98823529 0.88235294\n",
      " 0.08235294 0.         0.         0.         0.         0.\n",
      " 0.         0.         0.         0.         0.         0.\n",
      " 0.         0.         0.         0.         0.51764706 0.99215686\n",
      " 0.98823529 0.57254902 0.05490196 0.         0.         0.\n",
      " 0.84313725 0.98823529 0.98823529 0.30980392 0.         0.\n",
      " 0.         0.         0.         0.         0.         0.\n",
      " 0.         0.         0.         0.         0.         0.\n",
      " 0.         0.49411765 0.99215686 0.96862745 0.69019608 0.03529412\n",
      " 0.         0.         0.03137255 0.30588235 0.96078431 0.99215686\n",
      " 0.50588235 0.         0.         0.         0.         0.\n",
      " 0.         0.         0.         0.         0.         0.\n",
      " 0.         0.         0.         0.         0.0627451  0.90980392\n",
      " 0.98823529 0.69019608 0.         0.         0.         0.14117647\n",
      " 0.78823529 0.98823529 0.98823529 0.6627451  0.04313725 0.\n",
      " 0.         0.         0.         0.         0.         0.\n",
      " 0.         0.         0.         0.         0.         0.\n",
      " 0.         0.         0.08627451 0.98823529 0.98823529 0.11764706\n",
      " 0.08627451 0.46666667 0.77254902 0.94509804 0.99215686 0.98823529\n",
      " 0.98431373 0.30196078 0.         0.         0.         0.\n",
      " 0.         0.         0.         0.         0.         0.\n",
      " 0.         0.         0.         0.         0.         0.\n",
      " 0.0627451  0.90588235 0.98823529 0.99215686 0.98823529 0.98823529\n",
      " 0.98823529 0.88627451 0.89019608 0.98823529 0.90588235 0.\n",
      " 0.         0.         0.         0.         0.         0.\n",
      " 0.         0.         0.         0.         0.         0.\n",
      " 0.         0.         0.         0.         0.         0.21568627\n",
      " 0.92156863 0.99215686 0.85098039 0.54117647 0.16470588 0.09411765\n",
      " 0.75294118 0.98823529 0.56078431 0.         0.         0.\n",
      " 0.         0.         0.         0.         0.         0.\n",
      " 0.         0.         0.         0.         0.         0.\n",
      " 0.         0.         0.         0.         0.         0.\n",
      " 0.         0.         0.         0.24313725 1.         0.99215686\n",
      " 0.42745098 0.         0.         0.         0.         0.\n",
      " 0.         0.         0.         0.         0.         0.\n",
      " 0.         0.         0.         0.         0.         0.\n",
      " 0.         0.         0.         0.         0.         0.\n",
      " 0.         0.27843137 0.99215686 0.98823529 0.08235294 0.\n",
      " 0.         0.         0.         0.         0.         0.\n",
      " 0.         0.         0.         0.         0.         0.\n",
      " 0.         0.         0.         0.         0.         0.\n",
      " 0.         0.         0.         0.         0.         0.\n",
      " 0.99215686 0.98823529 0.08235294 0.         0.         0.\n",
      " 0.         0.         0.         0.         0.         0.\n",
      " 0.         0.         0.         0.         0.         0.\n",
      " 0.         0.         0.         0.         0.         0.\n",
      " 0.         0.         0.         0.27843137 0.99215686 0.98823529\n",
      " 0.08235294 0.         0.         0.         0.         0.\n",
      " 0.         0.         0.         0.         0.         0.\n",
      " 0.         0.         0.         0.         0.         0.\n",
      " 0.         0.         0.         0.         0.         0.\n",
      " 0.         0.41568627 0.99215686 0.98823529 0.08235294 0.\n",
      " 0.         0.         0.         0.         0.         0.\n",
      " 0.         0.         0.         0.         0.         0.\n",
      " 0.         0.         0.         0.         0.         0.\n",
      " 0.         0.         0.         0.         0.         0.17647059\n",
      " 1.         0.99215686 0.08235294 0.         0.         0.\n",
      " 0.         0.         0.         0.         0.         0.\n",
      " 0.         0.         0.         0.         0.         0.\n",
      " 0.         0.         0.         0.         0.         0.\n",
      " 0.         0.         0.         0.         0.85490196 0.98823529\n",
      " 0.21960784 0.         0.         0.         0.         0.\n",
      " 0.         0.         0.         0.         0.         0.\n",
      " 0.         0.         0.         0.         0.         0.\n",
      " 0.         0.         0.         0.         0.         0.\n",
      " 0.         0.         0.37647059 0.98823529 0.74117647 0.16470588\n",
      " 0.         0.         0.         0.         0.         0.\n",
      " 0.         0.         0.         0.         0.         0.\n",
      " 0.         0.         0.         0.         0.         0.\n",
      " 0.         0.         0.         0.         0.         0.\n",
      " 0.05490196 0.72156863 0.98823529 0.66666667 0.04313725 0.\n",
      " 0.         0.         0.         0.         0.         0.\n",
      " 0.         0.         0.         0.         0.         0.\n",
      " 0.         0.         0.         0.         0.         0.\n",
      " 0.         0.         0.         0.         0.         0.05490196\n",
      " 0.57647059 0.98823529 0.16470588 0.         0.         0.\n",
      " 0.         0.         0.         0.         0.         0.\n",
      " 0.         0.         0.         0.         0.         0.\n",
      " 0.         0.         0.         0.         0.         0.\n",
      " 0.         0.         0.         0.         0.         0.\n",
      " 0.         0.         0.         0.         0.         0.\n",
      " 0.         0.         0.         0.        ]\n"
     ]
    }
   ],
   "source": [
    "# example data point after normlizing\n",
    "print(X_train[4])"
   ]
  },
  {
   "cell_type": "markdown",
   "metadata": {
    "colab_type": "text",
    "id": "IpPZ97vjyk2j"
   },
   "source": [
    "###  convert each class label value into 10 dimensional vector\n",
    "\n",
    "### because  MLPs  requires this conversation"
   ]
  },
  {
   "cell_type": "code",
   "execution_count": 15,
   "metadata": {
    "colab": {
     "base_uri": "https://localhost:8080/",
     "height": 52
    },
    "colab_type": "code",
    "id": "bhbQTjT1yAJl",
    "outputId": "4e63faa3-c9bc-41b2-9845-e41a5bf072d2"
   },
   "outputs": [
    {
     "name": "stdout",
     "output_type": "stream",
     "text": [
      "Class label of first image : 5\n",
      "After converting the output into a vector :  [0. 0. 0. 0. 0. 1. 0. 0. 0. 0.]\n"
     ]
    }
   ],
   "source": [
    "# here we are having a class number for each image\n",
    "print(\"Class label of first image :\", y_train[0])\n",
    "\n",
    "# lets convert this into a 10 dimensional vector\n",
    "# ex: consider an image is 5 convert it into 5 => [0, 0, 0, 0, 1, 0, 0, 0, 0, 0]\n",
    "# this conversion needed for MLPs \n",
    "\n",
    "Y_train = np_utils.to_categorical(y_train, 10) \n",
    "Y_test = np_utils.to_categorical(y_test, 10)\n",
    "\n",
    "print(\"After converting the output into a vector : \",Y_train[0])"
   ]
  },
  {
   "cell_type": "markdown",
   "metadata": {
    "colab_type": "text",
    "id": "VoFzVjOwzrf8"
   },
   "source": [
    "<h2>  Softmax classifier  </h2>"
   ]
  },
  {
   "cell_type": "code",
   "execution_count": 0,
   "metadata": {
    "colab": {},
    "colab_type": "code",
    "id": "od8BRAd8zN7d"
   },
   "outputs": [],
   "source": [
    "# https://keras.io/getting-started/sequential-model-guide/\n",
    "# model = Sequential([\n",
    "#     Dense(32, input_shape=(784,)),\n",
    "#     Activation('relu'),\n",
    "#     Dense(10),\n",
    "#     Activation('softmax'),\n",
    "# ])\n",
    "\n",
    "# You can also simply add layers via the .add() method:\n",
    "\n",
    "# model = Sequential()\n",
    "# model.add(Dense(32, input_dim=784))\n",
    "# model.add(Activation('relu'))\n",
    "from keras.models import Sequential \n",
    "from keras.layers import Dense, Activation "
   ]
  },
  {
   "cell_type": "markdown",
   "metadata": {
    "colab_type": "text",
    "id": "ZJiSUWRI0l2n"
   },
   "source": [
    "#### model parameters"
   ]
  },
  {
   "cell_type": "code",
   "execution_count": 0,
   "metadata": {
    "colab": {},
    "colab_type": "code",
    "id": "UEspe5t10gEp"
   },
   "outputs": [],
   "source": [
    "# some model parameters\n",
    "\n",
    "output_dim = 10       #uotput dimensions should be 10\n",
    "input_dim = X_train.shape[1]   #input dimensions should be 784\n",
    "\n",
    "batch_size = 128 \n",
    "nb_epoch = 20           #number of epochs that we are selecting "
   ]
  },
  {
   "cell_type": "code",
   "execution_count": 19,
   "metadata": {
    "colab": {
     "base_uri": "https://localhost:8080/",
     "height": 159
    },
    "colab_type": "code",
    "id": "QRJSxGLu7Dqp",
    "outputId": "f4b9dc85-297e-46fd-afc0-e63d2e0c0f2d"
   },
   "outputs": [
    {
     "name": "stderr",
     "output_type": "stream",
     "text": [
      "WARNING: Logging before flag parsing goes to stderr.\n",
      "W0801 11:24:09.386624 139714030581632 deprecation_wrapper.py:119] From /usr/local/lib/python3.6/dist-packages/keras/backend/tensorflow_backend.py:74: The name tf.get_default_graph is deprecated. Please use tf.compat.v1.get_default_graph instead.\n",
      "\n",
      "W0801 11:24:09.439274 139714030581632 deprecation_wrapper.py:119] From /usr/local/lib/python3.6/dist-packages/keras/backend/tensorflow_backend.py:517: The name tf.placeholder is deprecated. Please use tf.compat.v1.placeholder instead.\n",
      "\n",
      "W0801 11:24:09.449316 139714030581632 deprecation_wrapper.py:119] From /usr/local/lib/python3.6/dist-packages/keras/backend/tensorflow_backend.py:4138: The name tf.random_uniform is deprecated. Please use tf.random.uniform instead.\n",
      "\n"
     ]
    }
   ],
   "source": [
    "# start building a model\n",
    "model = Sequential()\n",
    "\n",
    "# The model needs to know what input shape it should expect. \n",
    "# For this reason, the first layer in a Sequential model \n",
    "# (and only the first, because following layers can do automatic shape inference)\n",
    "# needs to receive information about its input shape. \n",
    "# you can use input_shape and input_dim to pass the shape of input\n",
    "\n",
    "# output_dim represent the number of nodes need in that layer\n",
    "# here we have 10 nodes\n",
    "\n",
    "model.add(Dense(output_dim, input_dim=input_dim, activation='softmax'))"
   ]
  },
  {
   "cell_type": "code",
   "execution_count": 20,
   "metadata": {
    "colab": {
     "base_uri": "https://localhost:8080/",
     "height": 905
    },
    "colab_type": "code",
    "id": "uzQPDTWS0_Gx",
    "outputId": "25a3bf9e-e677-49d9-f76e-39132d0e58fc"
   },
   "outputs": [
    {
     "name": "stderr",
     "output_type": "stream",
     "text": [
      "W0801 11:24:16.575267 139714030581632 deprecation_wrapper.py:119] From /usr/local/lib/python3.6/dist-packages/keras/optimizers.py:790: The name tf.train.Optimizer is deprecated. Please use tf.compat.v1.train.Optimizer instead.\n",
      "\n",
      "W0801 11:24:16.614786 139714030581632 deprecation_wrapper.py:119] From /usr/local/lib/python3.6/dist-packages/keras/backend/tensorflow_backend.py:3295: The name tf.log is deprecated. Please use tf.math.log instead.\n",
      "\n",
      "W0801 11:24:16.767367 139714030581632 deprecation.py:323] From /usr/local/lib/python3.6/dist-packages/tensorflow/python/ops/math_grad.py:1250: add_dispatch_support.<locals>.wrapper (from tensorflow.python.ops.array_ops) is deprecated and will be removed in a future version.\n",
      "Instructions for updating:\n",
      "Use tf.where in 2.0, which has the same broadcast rule as np.where\n",
      "W0801 11:24:16.819068 139714030581632 deprecation_wrapper.py:119] From /usr/local/lib/python3.6/dist-packages/keras/backend/tensorflow_backend.py:986: The name tf.assign_add is deprecated. Please use tf.compat.v1.assign_add instead.\n",
      "\n"
     ]
    },
    {
     "name": "stdout",
     "output_type": "stream",
     "text": [
      "Train on 60000 samples, validate on 10000 samples\n",
      "Epoch 1/20\n",
      "60000/60000 [==============================] - 2s 33us/step - loss: 1.2432 - acc: 0.7207 - val_loss: 0.7970 - val_acc: 0.8362\n",
      "Epoch 2/20\n",
      "60000/60000 [==============================] - 1s 22us/step - loss: 0.7073 - acc: 0.8439 - val_loss: 0.6005 - val_acc: 0.8638\n",
      "Epoch 3/20\n",
      "60000/60000 [==============================] - 1s 22us/step - loss: 0.5826 - acc: 0.8612 - val_loss: 0.5212 - val_acc: 0.8745\n",
      "Epoch 4/20\n",
      "60000/60000 [==============================] - 1s 21us/step - loss: 0.5224 - acc: 0.8703 - val_loss: 0.4768 - val_acc: 0.8809\n",
      "Epoch 5/20\n",
      "60000/60000 [==============================] - 1s 21us/step - loss: 0.4857 - acc: 0.8762 - val_loss: 0.4473 - val_acc: 0.8868\n",
      "Epoch 6/20\n",
      "60000/60000 [==============================] - 1s 21us/step - loss: 0.4603 - acc: 0.8806 - val_loss: 0.4265 - val_acc: 0.8903\n",
      "Epoch 7/20\n",
      "60000/60000 [==============================] - 1s 21us/step - loss: 0.4415 - acc: 0.8837 - val_loss: 0.4108 - val_acc: 0.8928\n",
      "Epoch 8/20\n",
      "60000/60000 [==============================] - 1s 21us/step - loss: 0.4269 - acc: 0.8870 - val_loss: 0.3986 - val_acc: 0.8953\n",
      "Epoch 9/20\n",
      "60000/60000 [==============================] - 1s 21us/step - loss: 0.4150 - acc: 0.8893 - val_loss: 0.3878 - val_acc: 0.8970\n",
      "Epoch 10/20\n",
      "60000/60000 [==============================] - 1s 21us/step - loss: 0.4052 - acc: 0.8916 - val_loss: 0.3792 - val_acc: 0.8996\n",
      "Epoch 11/20\n",
      "60000/60000 [==============================] - 1s 21us/step - loss: 0.3968 - acc: 0.8930 - val_loss: 0.3722 - val_acc: 0.9017\n",
      "Epoch 12/20\n",
      "60000/60000 [==============================] - 1s 21us/step - loss: 0.3897 - acc: 0.8949 - val_loss: 0.3660 - val_acc: 0.9026\n",
      "Epoch 13/20\n",
      "60000/60000 [==============================] - 1s 21us/step - loss: 0.3834 - acc: 0.8963 - val_loss: 0.3602 - val_acc: 0.9037\n",
      "Epoch 14/20\n",
      "60000/60000 [==============================] - 1s 21us/step - loss: 0.3779 - acc: 0.8973 - val_loss: 0.3555 - val_acc: 0.9045\n",
      "Epoch 15/20\n",
      "60000/60000 [==============================] - 1s 21us/step - loss: 0.3729 - acc: 0.8986 - val_loss: 0.3513 - val_acc: 0.9056\n",
      "Epoch 16/20\n",
      "60000/60000 [==============================] - 1s 21us/step - loss: 0.3684 - acc: 0.8995 - val_loss: 0.3472 - val_acc: 0.9065\n",
      "Epoch 17/20\n",
      "60000/60000 [==============================] - 1s 21us/step - loss: 0.3644 - acc: 0.9000 - val_loss: 0.3437 - val_acc: 0.9071\n",
      "Epoch 18/20\n",
      "60000/60000 [==============================] - 1s 21us/step - loss: 0.3607 - acc: 0.9010 - val_loss: 0.3407 - val_acc: 0.9079\n",
      "Epoch 19/20\n",
      "60000/60000 [==============================] - 1s 21us/step - loss: 0.3573 - acc: 0.9020 - val_loss: 0.3378 - val_acc: 0.9079\n",
      "Epoch 20/20\n",
      "60000/60000 [==============================] - 1s 21us/step - loss: 0.3542 - acc: 0.9025 - val_loss: 0.3349 - val_acc: 0.9089\n"
     ]
    }
   ],
   "source": [
    "# Before training a model, you need to configure the learning process, which is done via the compile method\n",
    "\n",
    "# It receives three arguments:\n",
    "# An optimizer. This could be the string identifier of an existing optimizer , https://keras.io/optimizers/\n",
    "# A loss function. This is the objective that the model will try to minimize., https://keras.io/losses/\n",
    "# A list of metrics. For any classification problem you will want to set this to metrics=['accuracy'].  https://keras.io/metrics/\n",
    "\n",
    "\n",
    "# Note: when using the categorical_crossentropy loss, your targets should be in categorical format \n",
    "# (e.g. if you have 10 classes, the target for each sample should be a 10-dimensional vector that is all-zeros except \n",
    "# for a 1 at the index corresponding to the class of the sample).\n",
    "\n",
    "# that is why we converted out labels into vectors\n",
    "\n",
    "model.compile(optimizer='sgd', loss='categorical_crossentropy', metrics=['accuracy'])\n",
    "\n",
    "# Keras models are trained on Numpy arrays of input data and labels. \n",
    "# For training a model, you will typically use the  fit function\n",
    "\n",
    "# fit(self, x=None, y=None, batch_size=None, epochs=1, verbose=1, callbacks=None, validation_split=0.0, \n",
    "# validation_data=None, shuffle=True, class_weight=None, sample_weight=None, initial_epoch=0, steps_per_epoch=None, \n",
    "# validation_steps=None)\n",
    "\n",
    "# fit() function Trains the model for a fixed number of epochs (iterations on a dataset).\n",
    "\n",
    "# it returns A History object. Its History.history attribute is a record of training loss values and \n",
    "# metrics values at successive epochs, as well as validation loss values and validation metrics values (if applicable).\n",
    "\n",
    "# https://github.com/openai/baselines/issues/20\n",
    "\n",
    "history = model.fit(X_train, Y_train, batch_size=batch_size, epochs=nb_epoch, verbose=1, validation_data=(X_test, Y_test)) \n"
   ]
  },
  {
   "cell_type": "code",
   "execution_count": 63,
   "metadata": {
    "colab": {
     "base_uri": "https://localhost:8080/",
     "height": 318
    },
    "colab_type": "code",
    "id": "_SyFBcH368dz",
    "outputId": "abfb1c25-c251-4239-8ad1-3a96438ac2be"
   },
   "outputs": [
    {
     "name": "stdout",
     "output_type": "stream",
     "text": [
      "Test score: 0.3349222825407982\n",
      "Test accuracy: 0.9089\n"
     ]
    },
    {
     "data": {
      "image/png": "[encoded data removed]",
      "text/plain": [
       "<Figure size 432x288 with 1 Axes>"
      ]
     },
     "metadata": {
      "tags": []
     },
     "output_type": "display_data"
    }
   ],
   "source": [
    "score = model.evaluate(X_test, Y_test, verbose=0) \n",
    "print('Test score:', score[0]) \n",
    "print('Test accuracy:', score[1])\n",
    "\n",
    "fig,ax = plt.subplots(1,1)\n",
    "ax.set_xlabel('epoch') ; ax.set_ylabel('Categorical Crossentropy Loss')\n",
    "\n",
    "# list of epoch numbers\n",
    "x = list(range(1,nb_epoch+1))\n",
    "\n",
    "# print(history.history.keys())\n",
    "# dict_keys(['val_loss', 'val_acc', 'loss', 'acc'])\n",
    "# history = model_drop.fit(X_train, Y_train, batch_size=batch_size, epochs=nb_epoch, verbose=1, validation_data=(X_test, Y_test))\n",
    "\n",
    "# we will get val_loss and val_acc only when you pass the paramter validation_data\n",
    "# val_loss : validation loss\n",
    "# val_acc : validation accuracy\n",
    "\n",
    "# loss : training loss\n",
    "# acc : train accuracy\n",
    "# for each key in histrory.histrory we will have a list of length equal to number of epochs\n",
    "\n",
    "vy = history.history['val_loss']\n",
    "ty = history.history['loss']\n",
    "plt_dynamic(x, vy, ty, ax)"
   ]
  },
  {
   "cell_type": "markdown",
   "metadata": {
    "colab_type": "text",
    "id": "8aV-bAUV7a49"
   },
   "source": [
    " #  MLP + ReLU + ADAM "
   ]
  },
  {
   "cell_type": "markdown",
   "metadata": {
    "colab_type": "text",
    "id": "cSbaUyoL70KY"
   },
   "source": [
    "## Architecture: 784----360----60-----10     (2 hidden layers)"
   ]
  },
  {
   "cell_type": "code",
   "execution_count": 0,
   "metadata": {
    "colab": {},
    "colab_type": "code",
    "id": "q_yclDWk9Zeu"
   },
   "outputs": [],
   "source": [
    "# some model parameters\n",
    "\n",
    "output_dim = 10       #uotput dimensions should be 10\n",
    "input_dim = X_train.shape[1]   #input dimensions should be 784\n",
    "\n",
    "batch_size = 128 \n",
    "nb_epoch = 20           #number of epochs that we are selecting "
   ]
  },
  {
   "cell_type": "markdown",
   "metadata": {
    "colab_type": "text",
    "id": "5UyFxqzeAips"
   },
   "source": [
    "## Without Batch normalization and Dropout"
   ]
  },
  {
   "cell_type": "code",
   "execution_count": 28,
   "metadata": {
    "colab": {
     "base_uri": "https://localhost:8080/",
     "height": 955
    },
    "colab_type": "code",
    "id": "BPhczGb77Tmy",
    "outputId": "2946b1d9-b3d4-4c50-8773-fa1d32c111e8"
   },
   "outputs": [
    {
     "name": "stdout",
     "output_type": "stream",
     "text": [
      "_________________________________________________________________\n",
      "Layer (type)                 Output Shape              Param #   \n",
      "=================================================================\n",
      "dense_7 (Dense)              (None, 360)               282600    \n",
      "_________________________________________________________________\n",
      "dense_8 (Dense)              (None, 60)                21660     \n",
      "_________________________________________________________________\n",
      "dense_9 (Dense)              (None, 10)                610       \n",
      "=================================================================\n",
      "Total params: 304,870\n",
      "Trainable params: 304,870\n",
      "Non-trainable params: 0\n",
      "_________________________________________________________________\n",
      "Train on 60000 samples, validate on 10000 samples\n",
      "Epoch 1/20\n",
      "60000/60000 [==============================] - 14s 229us/step - loss: 0.2011 - acc: 0.9395 - val_loss: 0.1137 - val_acc: 0.9641\n",
      "Epoch 2/20\n",
      "60000/60000 [==============================] - 13s 220us/step - loss: 0.0831 - acc: 0.9743 - val_loss: 0.0846 - val_acc: 0.9729\n",
      "Epoch 3/20\n",
      "60000/60000 [==============================] - 13s 214us/step - loss: 0.0571 - acc: 0.9816 - val_loss: 0.0908 - val_acc: 0.9741\n",
      "Epoch 4/20\n",
      "60000/60000 [==============================] - 13s 222us/step - loss: 0.0417 - acc: 0.9866 - val_loss: 0.0850 - val_acc: 0.9741\n",
      "Epoch 5/20\n",
      "60000/60000 [==============================] - 14s 229us/step - loss: 0.0363 - acc: 0.9883 - val_loss: 0.0831 - val_acc: 0.9764\n",
      "Epoch 6/20\n",
      "60000/60000 [==============================] - 13s 223us/step - loss: 0.0266 - acc: 0.9914 - val_loss: 0.0717 - val_acc: 0.9822\n",
      "Epoch 7/20\n",
      "60000/60000 [==============================] - 13s 216us/step - loss: 0.0234 - acc: 0.9919 - val_loss: 0.0802 - val_acc: 0.9791\n",
      "Epoch 8/20\n",
      "60000/60000 [==============================] - 12s 206us/step - loss: 0.0188 - acc: 0.9936 - val_loss: 0.0869 - val_acc: 0.9794\n",
      "Epoch 9/20\n",
      "60000/60000 [==============================] - 13s 212us/step - loss: 0.0175 - acc: 0.9940 - val_loss: 0.1076 - val_acc: 0.9775\n",
      "Epoch 10/20\n",
      "60000/60000 [==============================] - 13s 215us/step - loss: 0.0154 - acc: 0.9947 - val_loss: 0.0942 - val_acc: 0.9783\n",
      "Epoch 11/20\n",
      "60000/60000 [==============================] - 12s 207us/step - loss: 0.0147 - acc: 0.9953 - val_loss: 0.1012 - val_acc: 0.9802\n",
      "Epoch 12/20\n",
      "60000/60000 [==============================] - 13s 217us/step - loss: 0.0140 - acc: 0.9955 - val_loss: 0.1171 - val_acc: 0.9777\n",
      "Epoch 13/20\n",
      "60000/60000 [==============================] - 14s 227us/step - loss: 0.0143 - acc: 0.9959 - val_loss: 0.1048 - val_acc: 0.9792\n",
      "Epoch 14/20\n",
      "60000/60000 [==============================] - 13s 223us/step - loss: 0.0130 - acc: 0.9962 - val_loss: 0.1145 - val_acc: 0.9781\n",
      "Epoch 15/20\n",
      "60000/60000 [==============================] - 13s 219us/step - loss: 0.0101 - acc: 0.9967 - val_loss: 0.1239 - val_acc: 0.9759\n",
      "Epoch 16/20\n",
      "60000/60000 [==============================] - 14s 227us/step - loss: 0.0143 - acc: 0.9960 - val_loss: 0.1127 - val_acc: 0.9783\n",
      "Epoch 17/20\n",
      "60000/60000 [==============================] - 13s 212us/step - loss: 0.0111 - acc: 0.9967 - val_loss: 0.1167 - val_acc: 0.9792\n",
      "Epoch 18/20\n",
      "60000/60000 [==============================] - 12s 205us/step - loss: 0.0092 - acc: 0.9971 - val_loss: 0.1351 - val_acc: 0.9780\n",
      "Epoch 19/20\n",
      "60000/60000 [==============================] - 13s 210us/step - loss: 0.0098 - acc: 0.9973 - val_loss: 0.1197 - val_acc: 0.9791\n",
      "Epoch 20/20\n",
      "60000/60000 [==============================] - 14s 229us/step - loss: 0.0110 - acc: 0.9967 - val_loss: 0.1281 - val_acc: 0.9805\n"
     ]
    }
   ],
   "source": [
    "# Multilayer perceptron\n",
    "#from keras.layers import Dropout\n",
    "\n",
    "model_relu = Sequential()     #model \n",
    "\n",
    "#initialization: we can also  use He initialization\n",
    "model_relu.add(Dense(360, activation='relu', input_shape=(input_dim,),kernel_initializer=RandomNormal(mean=0.0, stddev=0.062, seed=None)))  #input dimensions to layer_1 = 784\n",
    "model_relu.add(Dense(60, activation='relu', kernel_initializer=RandomNormal(mean=0.0, stddev=0.125, seed=None)))\n",
    "model_relu.add(Dense(output_dim, activation='softmax'))     #output dimensions 10\n",
    "\n",
    "model_sigmoid.summary()\n",
    "\n",
    "#compile the model \n",
    "\n",
    "model_relu.compile(optimizer='adam', loss='categorical_crossentropy', metrics=['accuracy'])\n",
    "\n",
    "history = model_relu.fit(X_train, Y_train, epochs=nb_epoch, verbose=1, validation_data=(X_test, Y_test))"
   ]
  },
  {
   "cell_type": "code",
   "execution_count": 35,
   "metadata": {
    "colab": {
     "base_uri": "https://localhost:8080/",
     "height": 318
    },
    "colab_type": "code",
    "id": "yrqimUWw9qWr",
    "outputId": "fe329ae2-9ade-49b0-c646-0938b663486b"
   },
   "outputs": [
    {
     "name": "stdout",
     "output_type": "stream",
     "text": [
      "Test score: 0.12813367714659013\n",
      "Test accuracy: 0.9805\n"
     ]
    },
    {
     "data": {
      "image/png": "[encoded data removed]",
      "text/plain": [
       "<Figure size 432x288 with 1 Axes>"
      ]
     },
     "metadata": {
      "tags": []
     },
     "output_type": "display_data"
    }
   ],
   "source": [
    "%matplotlib inline \n",
    "score = model_relu.evaluate(X_test, Y_test, verbose=0) \n",
    "print('Test score:', score[0]) \n",
    "print('Test accuracy:', score[1])\n",
    "\n",
    "fig,ax = plt.subplots(1,1)\n",
    "ax.set_xlabel('epoch') ; ax.set_ylabel('Categorical Crossentropy Loss')\n",
    "\n",
    "# list of epoch numbers\n",
    "x = list(range(1,nb_epoch+1))\n",
    "\n",
    "# print(history.history.keys())\n",
    "# dict_keys(['val_loss', 'val_acc', 'loss', 'acc'])\n",
    "# history = model_drop.fit(X_train, Y_train, batch_size=batch_size, epochs=nb_epoch, verbose=1, validation_data=(X_test, Y_test))\n",
    "\n",
    "# we will get val_loss and val_acc only when you pass the paramter validation_data\n",
    "# val_loss : validation loss\n",
    "# val_acc : validation accuracy\n",
    "\n",
    "# loss : training loss\n",
    "# acc : train accuracy\n",
    "# for each key in histrory.histrory we will have a list of length equal to number of epochs\n",
    "\n",
    "\n",
    "vy = history.history['val_loss']\n",
    "ty = history.history['loss']\n",
    "plt_dynamic(x, vy, ty, ax)\n"
   ]
  },
  {
   "cell_type": "markdown",
   "metadata": {
    "colab_type": "text",
    "id": "EfSKEvOQEg84"
   },
   "source": [
    "we can observe  from epoch numbe 5 to 20 the mode is over fitting\n",
    "\n",
    "at 2.5 epochs train/test loss is decreased"
   ]
  },
  {
   "cell_type": "markdown",
   "metadata": {
    "colab_type": "text",
    "id": "4Z4olKF-E3gK"
   },
   "source": [
    "## With Batch normalization and Dropout"
   ]
  },
  {
   "cell_type": "code",
   "execution_count": 42,
   "metadata": {
    "colab": {
     "base_uri": "https://localhost:8080/",
     "height": 955
    },
    "colab_type": "code",
    "id": "Eks_K1IADw3j",
    "outputId": "8736f22d-f621-4fb7-de82-38dcb0ad4d73"
   },
   "outputs": [
    {
     "name": "stdout",
     "output_type": "stream",
     "text": [
      "_________________________________________________________________\n",
      "Layer (type)                 Output Shape              Param #   \n",
      "=================================================================\n",
      "dense_7 (Dense)              (None, 360)               282600    \n",
      "_________________________________________________________________\n",
      "dense_8 (Dense)              (None, 60)                21660     \n",
      "_________________________________________________________________\n",
      "dense_9 (Dense)              (None, 10)                610       \n",
      "=================================================================\n",
      "Total params: 304,870\n",
      "Trainable params: 304,870\n",
      "Non-trainable params: 0\n",
      "_________________________________________________________________\n",
      "Train on 60000 samples, validate on 10000 samples\n",
      "Epoch 1/20\n",
      "60000/60000 [==============================] - 7s 124us/step - loss: 0.5729 - acc: 0.8281 - val_loss: 0.1756 - val_acc: 0.9439\n",
      "Epoch 2/20\n",
      "60000/60000 [==============================] - 6s 101us/step - loss: 0.2743 - acc: 0.9205 - val_loss: 0.1274 - val_acc: 0.9612\n",
      "Epoch 3/20\n",
      "60000/60000 [==============================] - 6s 102us/step - loss: 0.2119 - acc: 0.9389 - val_loss: 0.1092 - val_acc: 0.9670\n",
      "Epoch 4/20\n",
      "60000/60000 [==============================] - 6s 103us/step - loss: 0.1806 - acc: 0.9479 - val_loss: 0.0992 - val_acc: 0.9696\n",
      "Epoch 5/20\n",
      "60000/60000 [==============================] - 6s 103us/step - loss: 0.1579 - acc: 0.9538 - val_loss: 0.0915 - val_acc: 0.9719\n",
      "Epoch 6/20\n",
      "60000/60000 [==============================] - 6s 102us/step - loss: 0.1411 - acc: 0.9585 - val_loss: 0.0805 - val_acc: 0.9749\n",
      "Epoch 7/20\n",
      "60000/60000 [==============================] - 6s 102us/step - loss: 0.1283 - acc: 0.9632 - val_loss: 0.0775 - val_acc: 0.9749\n",
      "Epoch 8/20\n",
      "60000/60000 [==============================] - 6s 104us/step - loss: 0.1238 - acc: 0.9642 - val_loss: 0.0769 - val_acc: 0.9767\n",
      "Epoch 9/20\n",
      "60000/60000 [==============================] - 6s 103us/step - loss: 0.1117 - acc: 0.9668 - val_loss: 0.0774 - val_acc: 0.9772\n",
      "Epoch 10/20\n",
      "60000/60000 [==============================] - 6s 103us/step - loss: 0.1083 - acc: 0.9675 - val_loss: 0.0692 - val_acc: 0.9784\n",
      "Epoch 11/20\n",
      "60000/60000 [==============================] - 6s 100us/step - loss: 0.1016 - acc: 0.9697 - val_loss: 0.0695 - val_acc: 0.9785\n",
      "Epoch 12/20\n",
      "60000/60000 [==============================] - 6s 101us/step - loss: 0.0963 - acc: 0.9712 - val_loss: 0.0666 - val_acc: 0.9793\n",
      "Epoch 13/20\n",
      "60000/60000 [==============================] - 6s 102us/step - loss: 0.0942 - acc: 0.9718 - val_loss: 0.0666 - val_acc: 0.9813\n",
      "Epoch 14/20\n",
      "60000/60000 [==============================] - 6s 102us/step - loss: 0.0884 - acc: 0.9739 - val_loss: 0.0712 - val_acc: 0.9794\n",
      "Epoch 15/20\n",
      "60000/60000 [==============================] - 6s 102us/step - loss: 0.0857 - acc: 0.9738 - val_loss: 0.0623 - val_acc: 0.9805\n",
      "Epoch 16/20\n",
      "60000/60000 [==============================] - 6s 101us/step - loss: 0.0773 - acc: 0.9770 - val_loss: 0.0619 - val_acc: 0.9819\n",
      "Epoch 17/20\n",
      "60000/60000 [==============================] - 6s 100us/step - loss: 0.0782 - acc: 0.9762 - val_loss: 0.0604 - val_acc: 0.9818\n",
      "Epoch 18/20\n",
      "60000/60000 [==============================] - 6s 101us/step - loss: 0.0747 - acc: 0.9772 - val_loss: 0.0609 - val_acc: 0.9817\n",
      "Epoch 19/20\n",
      "60000/60000 [==============================] - 6s 102us/step - loss: 0.0708 - acc: 0.9780 - val_loss: 0.0569 - val_acc: 0.9836\n",
      "Epoch 20/20\n",
      "60000/60000 [==============================] - 6s 102us/step - loss: 0.0704 - acc: 0.9785 - val_loss: 0.0600 - val_acc: 0.9826\n"
     ]
    }
   ],
   "source": [
    "# Multilayer perceptron\n",
    "from keras.layers import Dropout\n",
    "from keras.layers.normalization import BatchNormalization\n",
    "\n",
    "model_relu = Sequential()     #model \n",
    "\n",
    "#initialization: we can also  use He initialization\n",
    "model_relu.add(Dense(360, activation='relu', input_shape=(input_dim,),kernel_initializer=RandomNormal(mean=0.0, stddev=0.062, seed=None)))  #input dimensions to layer_1 = 784\n",
    "model_relu.add(BatchNormalization())\n",
    "model_relu.add(Dropout(0.5))\n",
    "\n",
    "model_relu.add(Dense(60, activation='relu', kernel_initializer=RandomNormal(mean=0.0, stddev=0.125, seed=None)))\n",
    "model_relu.add(BatchNormalization())\n",
    "model_relu.add(Dropout(0.5))\n",
    "\n",
    "model_relu.add(Dense(output_dim, activation='softmax'))     #output dimensions 10\n",
    "\n",
    "model_sigmoid.summary()\n",
    "\n",
    "#compile the model \n",
    "\n",
    "model_relu.compile(optimizer='adam', loss='categorical_crossentropy', metrics=['accuracy'])\n",
    "\n",
    "history = model_relu.fit(X_train, Y_train, epochs=nb_epoch,batch_size=batch_size, verbose=1, validation_data=(X_test, Y_test))"
   ]
  },
  {
   "cell_type": "code",
   "execution_count": 43,
   "metadata": {
    "colab": {
     "base_uri": "https://localhost:8080/",
     "height": 318
    },
    "colab_type": "code",
    "id": "qqdalLr2Fhn0",
    "outputId": "c0ba0bc1-03d2-4545-ef63-d9cef61521dd"
   },
   "outputs": [
    {
     "name": "stdout",
     "output_type": "stream",
     "text": [
      "Test score: 0.059990370497794356\n",
      "Test accuracy: 0.9826\n"
     ]
    },
    {
     "data": {
      "image/png": "[encoded data removed]",
      "text/plain": [
       "<Figure size 432x288 with 1 Axes>"
      ]
     },
     "metadata": {
      "tags": []
     },
     "output_type": "display_data"
    }
   ],
   "source": [
    "%matplotlib inline \n",
    "score = model_relu.evaluate(X_test, Y_test, verbose=0) \n",
    "print('Test score:', score[0]) \n",
    "print('Test accuracy:', score[1])\n",
    "\n",
    "fig,ax = plt.subplots(1,1)\n",
    "ax.set_xlabel('epoch') ; ax.set_ylabel('Categorical Crossentropy Loss')\n",
    "\n",
    "# list of epoch numbers\n",
    "x = list(range(1,nb_epoch+1))\n",
    "\n",
    "# print(history.history.keys())\n",
    "# dict_keys(['val_loss', 'val_acc', 'loss', 'acc'])\n",
    "# history = model_drop.fit(X_train, Y_train, batch_size=batch_size, epochs=nb_epoch, verbose=1, validation_data=(X_test, Y_test))\n",
    "\n",
    "# we will get val_loss and val_acc only when you pass the paramter validation_data\n",
    "# val_loss : validation loss\n",
    "# val_acc : validation accuracy\n",
    "\n",
    "# loss : training loss\n",
    "# acc : train accuracy\n",
    "# for each key in histrory.histrory we will have a list of length equal to number of epochs\n",
    "\n",
    "\n",
    "vy = history.history['val_loss']\n",
    "ty = history.history['loss']\n",
    "plt_dynamic(x, vy, ty, ax)\n"
   ]
  },
  {
   "cell_type": "markdown",
   "metadata": {
    "colab_type": "text",
    "id": "0PPym-n2G77v"
   },
   "source": [
    "observation:we could observe at 5 epochs train/test loss is decreased"
   ]
  },
  {
   "cell_type": "markdown",
   "metadata": {
    "colab_type": "text",
    "id": "5buHkOz2HEfZ"
   },
   "source": [
    "### Violin Plot for weights (hidden layers )"
   ]
  },
  {
   "cell_type": "code",
   "execution_count": 44,
   "metadata": {
    "colab": {
     "base_uri": "https://localhost:8080/",
     "height": 285
    },
    "colab_type": "code",
    "id": "mrcCHAD1G587",
    "outputId": "8c1e3118-434e-4c59-89f8-923c0a4649b8"
   },
   "outputs": [
    {
     "data": {
      "image/png": "[encoded data removed]",
      "text/plain": [
       "<Figure size 432x288 with 3 Axes>"
      ]
     },
     "metadata": {
      "tags": []
     },
     "output_type": "display_data"
    }
   ],
   "source": [
    "w_after = model_relu.get_weights()   #get all weights \n",
    "\n",
    "h1_w = w_after[0].flatten().reshape(-1,1)\n",
    "h2_w = w_after[2].flatten().reshape(-1,1)\n",
    "out_w = w_after[4].flatten().reshape(-1,1)\n",
    "\n",
    "\n",
    "fig = plt.figure()\n",
    "plt.title(\"Weight matrices after model trained\")\n",
    "plt.subplot(1, 3, 1)\n",
    "plt.title(\"Trained model Weights\")\n",
    "ax = sns.violinplot(y=h1_w,color='b')\n",
    "plt.xlabel('Hidden Layer 1')\n",
    "\n",
    "plt.subplot(1, 3, 2)\n",
    "plt.title(\"Trained model Weights\")\n",
    "ax = sns.violinplot(y=h2_w, color='r')\n",
    "plt.xlabel('Hidden Layer 2 ')\n",
    "\n",
    "plt.subplot(1, 3, 3)\n",
    "plt.title(\"Trained model Weights\")\n",
    "ax = sns.violinplot(y=out_w,color='y')\n",
    "plt.xlabel('Output Layer ')\n",
    "plt.show()"
   ]
  },
  {
   "cell_type": "markdown",
   "metadata": {
    "colab_type": "text",
    "id": "K9NHqAilH4hE"
   },
   "source": [
    "we can observe violin plots  with box plot for 2 hidden layers and 1 output layer"
   ]
  },
  {
   "cell_type": "markdown",
   "metadata": {
    "colab_type": "text",
    "id": "Fu0glunYLXTn"
   },
   "source": [
    "\n",
    " #  MLP + ReLU + ADAM \n",
    "\n",
    "## Architecture: 784----400----100----40-----10     (3 hidden layers)"
   ]
  },
  {
   "cell_type": "markdown",
   "metadata": {
    "colab_type": "text",
    "id": "iqeJ_dc6LzBI"
   },
   "source": [
    "## Without Batch normalization and Dropout"
   ]
  },
  {
   "cell_type": "code",
   "execution_count": 46,
   "metadata": {
    "colab": {
     "base_uri": "https://localhost:8080/",
     "height": 955
    },
    "colab_type": "code",
    "id": "5bxuNTxeL1Ti",
    "outputId": "a7326fae-e889-4580-deb8-b1ac14c7e606"
   },
   "outputs": [
    {
     "name": "stdout",
     "output_type": "stream",
     "text": [
      "_________________________________________________________________\n",
      "Layer (type)                 Output Shape              Param #   \n",
      "=================================================================\n",
      "dense_7 (Dense)              (None, 360)               282600    \n",
      "_________________________________________________________________\n",
      "dense_8 (Dense)              (None, 60)                21660     \n",
      "_________________________________________________________________\n",
      "dense_9 (Dense)              (None, 10)                610       \n",
      "=================================================================\n",
      "Total params: 304,870\n",
      "Trainable params: 304,870\n",
      "Non-trainable params: 0\n",
      "_________________________________________________________________\n",
      "Train on 60000 samples, validate on 10000 samples\n",
      "Epoch 1/20\n",
      "60000/60000 [==============================] - 7s 109us/step - loss: 0.2659 - acc: 0.9212 - val_loss: 0.1293 - val_acc: 0.9609\n",
      "Epoch 2/20\n",
      "60000/60000 [==============================] - 6s 92us/step - loss: 0.0960 - acc: 0.9711 - val_loss: 0.0836 - val_acc: 0.9726\n",
      "Epoch 3/20\n",
      "60000/60000 [==============================] - 6s 92us/step - loss: 0.0631 - acc: 0.9808 - val_loss: 0.0814 - val_acc: 0.9748\n",
      "Epoch 4/20\n",
      "60000/60000 [==============================] - 5s 92us/step - loss: 0.0433 - acc: 0.9867 - val_loss: 0.0684 - val_acc: 0.9776\n",
      "Epoch 5/20\n",
      "60000/60000 [==============================] - 6s 93us/step - loss: 0.0321 - acc: 0.9899 - val_loss: 0.0785 - val_acc: 0.9784\n",
      "Epoch 6/20\n",
      "60000/60000 [==============================] - 6s 93us/step - loss: 0.0247 - acc: 0.9918 - val_loss: 0.0678 - val_acc: 0.9803\n",
      "Epoch 7/20\n",
      "60000/60000 [==============================] - 6s 92us/step - loss: 0.0234 - acc: 0.9924 - val_loss: 0.0760 - val_acc: 0.9786\n",
      "Epoch 8/20\n",
      "60000/60000 [==============================] - 6s 92us/step - loss: 0.0168 - acc: 0.9944 - val_loss: 0.0787 - val_acc: 0.9795\n",
      "Epoch 9/20\n",
      "60000/60000 [==============================] - 6s 92us/step - loss: 0.0159 - acc: 0.9950 - val_loss: 0.0828 - val_acc: 0.9773\n",
      "Epoch 10/20\n",
      "60000/60000 [==============================] - 6s 93us/step - loss: 0.0175 - acc: 0.9942 - val_loss: 0.0778 - val_acc: 0.9809\n",
      "Epoch 11/20\n",
      "60000/60000 [==============================] - 6s 92us/step - loss: 0.0136 - acc: 0.9952 - val_loss: 0.0822 - val_acc: 0.9813\n",
      "Epoch 12/20\n",
      "60000/60000 [==============================] - 6s 93us/step - loss: 0.0120 - acc: 0.9960 - val_loss: 0.0837 - val_acc: 0.9808\n",
      "Epoch 13/20\n",
      "60000/60000 [==============================] - 5s 92us/step - loss: 0.0096 - acc: 0.9968 - val_loss: 0.1124 - val_acc: 0.9772\n",
      "Epoch 14/20\n",
      "60000/60000 [==============================] - 6s 93us/step - loss: 0.0143 - acc: 0.9952 - val_loss: 0.0936 - val_acc: 0.9782\n",
      "Epoch 15/20\n",
      "60000/60000 [==============================] - 6s 93us/step - loss: 0.0104 - acc: 0.9964 - val_loss: 0.0928 - val_acc: 0.9797\n",
      "Epoch 16/20\n",
      "60000/60000 [==============================] - 5s 89us/step - loss: 0.0066 - acc: 0.9980 - val_loss: 0.0883 - val_acc: 0.9812\n",
      "Epoch 17/20\n",
      "60000/60000 [==============================] - 5s 90us/step - loss: 0.0095 - acc: 0.9969 - val_loss: 0.0894 - val_acc: 0.9807\n",
      "Epoch 18/20\n",
      "60000/60000 [==============================] - 6s 92us/step - loss: 0.0111 - acc: 0.9964 - val_loss: 0.0872 - val_acc: 0.9804\n",
      "Epoch 19/20\n",
      "60000/60000 [==============================] - 6s 92us/step - loss: 0.0061 - acc: 0.9980 - val_loss: 0.1012 - val_acc: 0.9797\n",
      "Epoch 20/20\n",
      "60000/60000 [==============================] - 6s 92us/step - loss: 0.0092 - acc: 0.9972 - val_loss: 0.0958 - val_acc: 0.9802\n"
     ]
    }
   ],
   "source": [
    "# Multilayer perceptron\n",
    "#from keras.layers import Dropout\n",
    "\n",
    "model_relu = Sequential()     #model \n",
    "\n",
    "#initialization: we can also  use He initialization\n",
    "model_relu.add(Dense(400, activation='relu', input_shape=(input_dim,),kernel_initializer=RandomNormal(mean=0.0, stddev=0.062, seed=None)))  #input dimensions to layer_1 = 784\n",
    "model_relu.add(Dense(100, activation='relu', kernel_initializer=RandomNormal(mean=0.0, stddev=0.125, seed=None)))\n",
    "model_relu.add(Dense(40, activation='relu', kernel_initializer=RandomNormal(mean=0.0, stddev=0.125, seed=None)))\n",
    "model_relu.add(Dense(output_dim, activation='softmax'))     #output dimensions 10\n",
    "\n",
    "model_sigmoid.summary()\n",
    "\n",
    "#compile the model \n",
    "\n",
    "model_relu.compile(optimizer='adam', loss='categorical_crossentropy', metrics=['accuracy'])\n",
    "\n",
    "history = model_relu.fit(X_train, Y_train, epochs=nb_epoch, batch_size=batch_size, verbose=1, validation_data=(X_test, Y_test))"
   ]
  },
  {
   "cell_type": "code",
   "execution_count": 0,
   "metadata": {
    "colab": {},
    "colab_type": "code",
    "id": "TgVN47w4WvDy"
   },
   "outputs": [],
   "source": []
  },
  {
   "cell_type": "code",
   "execution_count": 47,
   "metadata": {
    "colab": {
     "base_uri": "https://localhost:8080/",
     "height": 318
    },
    "colab_type": "code",
    "id": "I24KrNboMlvO",
    "outputId": "8f5c134c-03d5-485a-82d7-0ea6ff4eb5d4"
   },
   "outputs": [
    {
     "name": "stdout",
     "output_type": "stream",
     "text": [
      "Test score: 0.09576768837510037\n",
      "Test accuracy: 0.9802\n"
     ]
    },
    {
     "data": {
      "image/png": "[encoded data removed]",
      "text/plain": [
       "<Figure size 432x288 with 1 Axes>"
      ]
     },
     "metadata": {
      "tags": []
     },
     "output_type": "display_data"
    }
   ],
   "source": [
    "%matplotlib inline \n",
    "score = model_relu.evaluate(X_test, Y_test, verbose=0) \n",
    "print('Test score:', score[0]) \n",
    "print('Test accuracy:', score[1])\n",
    "\n",
    "fig,ax = plt.subplots(1,1)\n",
    "ax.set_xlabel('epoch') ; ax.set_ylabel('Categorical Crossentropy Loss')\n",
    "\n",
    "# list of epoch numbers\n",
    "x = list(range(1,nb_epoch+1))\n",
    "\n",
    "# print(history.history.keys())\n",
    "# dict_keys(['val_loss', 'val_acc', 'loss', 'acc'])\n",
    "# history = model_drop.fit(X_train, Y_train, batch_size=batch_size, epochs=nb_epoch, verbose=1, validation_data=(X_test, Y_test))\n",
    "\n",
    "# we will get val_loss and val_acc only when you pass the paramter validation_data\n",
    "# val_loss : validation loss\n",
    "# val_acc : validation accuracy\n",
    "\n",
    "# loss : training loss\n",
    "# acc : train accuracy\n",
    "# for each key in histrory.histrory we will have a list of length equal to number of epochs\n",
    "\n",
    "\n",
    "vy = history.history['val_loss']\n",
    "ty = history.history['loss']\n",
    "plt_dynamic(x, vy, ty, ax)\n"
   ]
  },
  {
   "cell_type": "markdown",
   "metadata": {
    "colab_type": "text",
    "id": "R1m5rYW4O5wM"
   },
   "source": [
    "observation: according to the above error plot we could say model is with high overfit (without dropout and batch normalization) "
   ]
  },
  {
   "cell_type": "markdown",
   "metadata": {
    "colab_type": "text",
    "id": "pyXqHQqiNg1s"
   },
   "source": [
    "## With Batch normalization and Dropout"
   ]
  },
  {
   "cell_type": "code",
   "execution_count": 48,
   "metadata": {
    "colab": {
     "base_uri": "https://localhost:8080/",
     "height": 955
    },
    "colab_type": "code",
    "id": "_DcEsrb2Nh4L",
    "outputId": "07ccc368-6eee-4730-a647-286a81f21ba9"
   },
   "outputs": [
    {
     "name": "stdout",
     "output_type": "stream",
     "text": [
      "_________________________________________________________________\n",
      "Layer (type)                 Output Shape              Param #   \n",
      "=================================================================\n",
      "dense_7 (Dense)              (None, 360)               282600    \n",
      "_________________________________________________________________\n",
      "dense_8 (Dense)              (None, 60)                21660     \n",
      "_________________________________________________________________\n",
      "dense_9 (Dense)              (None, 10)                610       \n",
      "=================================================================\n",
      "Total params: 304,870\n",
      "Trainable params: 304,870\n",
      "Non-trainable params: 0\n",
      "_________________________________________________________________\n",
      "Train on 60000 samples, validate on 10000 samples\n",
      "Epoch 1/20\n",
      "60000/60000 [==============================] - 9s 158us/step - loss: 0.8870 - acc: 0.7285 - val_loss: 0.2195 - val_acc: 0.9340\n",
      "Epoch 2/20\n",
      "60000/60000 [==============================] - 7s 121us/step - loss: 0.3810 - acc: 0.8930 - val_loss: 0.1589 - val_acc: 0.9511\n",
      "Epoch 3/20\n",
      "60000/60000 [==============================] - 7s 121us/step - loss: 0.2876 - acc: 0.9221 - val_loss: 0.1284 - val_acc: 0.9616\n",
      "Epoch 4/20\n",
      "60000/60000 [==============================] - 7s 125us/step - loss: 0.2384 - acc: 0.9347 - val_loss: 0.1117 - val_acc: 0.9671\n",
      "Epoch 5/20\n",
      "60000/60000 [==============================] - 7s 125us/step - loss: 0.2080 - acc: 0.9438 - val_loss: 0.1005 - val_acc: 0.9713\n",
      "Epoch 6/20\n",
      "60000/60000 [==============================] - 7s 123us/step - loss: 0.1846 - acc: 0.9501 - val_loss: 0.0968 - val_acc: 0.9725\n",
      "Epoch 7/20\n",
      "60000/60000 [==============================] - 8s 129us/step - loss: 0.1711 - acc: 0.9547 - val_loss: 0.0921 - val_acc: 0.9735\n",
      "Epoch 8/20\n",
      "60000/60000 [==============================] - 7s 123us/step - loss: 0.1602 - acc: 0.9573 - val_loss: 0.0817 - val_acc: 0.9752\n",
      "Epoch 9/20\n",
      "60000/60000 [==============================] - 7s 123us/step - loss: 0.1493 - acc: 0.9602 - val_loss: 0.0840 - val_acc: 0.9759\n",
      "Epoch 10/20\n",
      "60000/60000 [==============================] - 7s 124us/step - loss: 0.1402 - acc: 0.9621 - val_loss: 0.0843 - val_acc: 0.9753\n",
      "Epoch 11/20\n",
      "60000/60000 [==============================] - 7s 124us/step - loss: 0.1315 - acc: 0.9644 - val_loss: 0.0865 - val_acc: 0.9757\n",
      "Epoch 12/20\n",
      "60000/60000 [==============================] - 7s 124us/step - loss: 0.1269 - acc: 0.9666 - val_loss: 0.0784 - val_acc: 0.9789\n",
      "Epoch 13/20\n",
      "60000/60000 [==============================] - 7s 125us/step - loss: 0.1187 - acc: 0.9680 - val_loss: 0.0715 - val_acc: 0.9790\n",
      "Epoch 14/20\n",
      "60000/60000 [==============================] - 7s 124us/step - loss: 0.1174 - acc: 0.9679 - val_loss: 0.0791 - val_acc: 0.9789\n",
      "Epoch 15/20\n",
      "60000/60000 [==============================] - 7s 123us/step - loss: 0.1124 - acc: 0.9699 - val_loss: 0.0721 - val_acc: 0.9800\n",
      "Epoch 16/20\n",
      "60000/60000 [==============================] - 7s 123us/step - loss: 0.1101 - acc: 0.9700 - val_loss: 0.0691 - val_acc: 0.9822\n",
      "Epoch 17/20\n",
      "60000/60000 [==============================] - 7s 122us/step - loss: 0.1028 - acc: 0.9714 - val_loss: 0.0693 - val_acc: 0.9805\n",
      "Epoch 18/20\n",
      "60000/60000 [==============================] - 7s 122us/step - loss: 0.0990 - acc: 0.9729 - val_loss: 0.0694 - val_acc: 0.9818\n",
      "Epoch 19/20\n",
      "60000/60000 [==============================] - 7s 122us/step - loss: 0.0941 - acc: 0.9750 - val_loss: 0.0706 - val_acc: 0.9821\n",
      "Epoch 20/20\n",
      "60000/60000 [==============================] - 7s 123us/step - loss: 0.0957 - acc: 0.9738 - val_loss: 0.0706 - val_acc: 0.9799\n"
     ]
    }
   ],
   "source": [
    "# Multilayer perceptron\n",
    "from keras.layers import Dropout\n",
    "from keras.layers.normalization import BatchNormalization\n",
    "\n",
    "model_relu = Sequential()     #model \n",
    "\n",
    "#initialization: we can also  use He initialization\n",
    "model_relu.add(Dense(400, activation='relu', input_shape=(input_dim,),kernel_initializer=RandomNormal(mean=0.0, stddev=0.062, seed=None)))  #input dimensions to layer_1 = 784\n",
    "model_relu.add(BatchNormalization())\n",
    "model_relu.add(Dropout(0.5))\n",
    "\n",
    "model_relu.add(Dense(100, activation='relu', kernel_initializer=RandomNormal(mean=0.0, stddev=0.125, seed=None)))\n",
    "model_relu.add(BatchNormalization())\n",
    "model_relu.add(Dropout(0.5))\n",
    "\n",
    "model_relu.add(Dense(40, activation='relu', kernel_initializer=RandomNormal(mean=0.0, stddev=0.125, seed=None)))\n",
    "model_relu.add(BatchNormalization())\n",
    "model_relu.add(Dropout(0.5))\n",
    "\n",
    "model_relu.add(Dense(output_dim, activation='softmax'))     #output dimensions 10\n",
    "\n",
    "model_sigmoid.summary()\n",
    "\n",
    "#compile the model \n",
    "\n",
    "model_relu.compile(optimizer='adam', loss='categorical_crossentropy', metrics=['accuracy'])\n",
    "\n",
    "history = model_relu.fit(X_train, Y_train, epochs=nb_epoch,batch_size=batch_size, verbose=1, validation_data=(X_test, Y_test))"
   ]
  },
  {
   "cell_type": "code",
   "execution_count": 49,
   "metadata": {
    "colab": {
     "base_uri": "https://localhost:8080/",
     "height": 318
    },
    "colab_type": "code",
    "id": "djk6pRtSN3eB",
    "outputId": "19adbb26-6d64-4aef-df95-758751718259"
   },
   "outputs": [
    {
     "name": "stdout",
     "output_type": "stream",
     "text": [
      "Test score: 0.07055231085019187\n",
      "Test accuracy: 0.9799\n"
     ]
    },
    {
     "data": {
      "image/png": "[encoded data removed]",
      "text/plain": [
       "<Figure size 432x288 with 1 Axes>"
      ]
     },
     "metadata": {
      "tags": []
     },
     "output_type": "display_data"
    }
   ],
   "source": [
    "%matplotlib inline \n",
    "score = model_relu.evaluate(X_test, Y_test, verbose=0) \n",
    "print('Test score:', score[0]) \n",
    "print('Test accuracy:', score[1])\n",
    "\n",
    "fig,ax = plt.subplots(1,1)\n",
    "ax.set_xlabel('epoch') ; ax.set_ylabel('Categorical Crossentropy Loss')\n",
    "\n",
    "# list of epoch numbers\n",
    "x = list(range(1,nb_epoch+1))\n",
    "\n",
    "# print(history.history.keys())\n",
    "# dict_keys(['val_loss', 'val_acc', 'loss', 'acc'])\n",
    "# history = model_drop.fit(X_train, Y_train, batch_size=batch_size, epochs=nb_epoch, verbose=1, validation_data=(X_test, Y_test))\n",
    "\n",
    "# we will get val_loss and val_acc only when you pass the paramter validation_data\n",
    "# val_loss : validation loss\n",
    "# val_acc : validation accuracy\n",
    "\n",
    "# loss : training loss\n",
    "# acc : train accuracy\n",
    "# for each key in histrory.histrory we will have a list of length equal to number of epochs\n",
    "\n",
    "\n",
    "vy = history.history['val_loss']\n",
    "ty = history.history['loss']\n",
    "plt_dynamic(x, vy, ty, ax)\n"
   ]
  },
  {
   "cell_type": "markdown",
   "metadata": {
    "colab_type": "text",
    "id": "5MX2foD4PQxF"
   },
   "source": [
    "observation:  from 2.5 epoch to 20 epoch train/test loss is decresed "
   ]
  },
  {
   "cell_type": "markdown",
   "metadata": {
    "colab_type": "text",
    "id": "b7LSfFu3PrhT"
   },
   "source": [
    "### Violin Plot for weights (hidden layers )"
   ]
  },
  {
   "cell_type": "code",
   "execution_count": 50,
   "metadata": {
    "colab": {
     "base_uri": "https://localhost:8080/",
     "height": 285
    },
    "colab_type": "code",
    "id": "ePcjywXBPtPO",
    "outputId": "488d468a-9a59-484a-c942-4845d09052f6"
   },
   "outputs": [
    {
     "data": {
      "image/png": "[encoded data removed]",
      "text/plain": [
       "<Figure size 432x288 with 4 Axes>"
      ]
     },
     "metadata": {
      "tags": []
     },
     "output_type": "display_data"
    }
   ],
   "source": [
    "w_after = model_relu.get_weights()   #get all weights \n",
    "\n",
    "h1_w = w_after[0].flatten().reshape(-1,1)\n",
    "h2_w = w_after[2].flatten().reshape(-1,1)\n",
    "h3_w = w_after[3].flatten().reshape(-1,1)\n",
    "out_w = w_after[4].flatten().reshape(-1,1)\n",
    "\n",
    "\n",
    "fig = plt.figure()\n",
    "plt.title(\"Weight matrices after model trained\")\n",
    "plt.subplot(1, 4, 1)\n",
    "plt.title(\"Trained model Weights\")\n",
    "ax = sns.violinplot(y=h1_w,color='b')\n",
    "plt.xlabel('Hidden Layer 1')\n",
    "\n",
    "plt.subplot(1, 4, 2)\n",
    "plt.title(\"Trained model Weights\")\n",
    "ax = sns.violinplot(y=h2_w, color='r')\n",
    "plt.xlabel('Hidden Layer 2 ')\n",
    "\n",
    "plt.subplot(1, 4, 3)\n",
    "plt.title(\"Trained model Weights\")\n",
    "ax = sns.violinplot(y=h3_w, color='g')\n",
    "plt.xlabel('Hidden Layer 3 ')\n",
    "\n",
    "\n",
    "plt.subplot(1, 4, 4)\n",
    "plt.title(\"Trained model Weights\")\n",
    "ax = sns.violinplot(y=out_w,color='y')\n",
    "plt.xlabel('Output Layer ')\n",
    "plt.show()"
   ]
  },
  {
   "cell_type": "markdown",
   "metadata": {
    "colab_type": "text",
    "id": "Dd9vjrgBQg2_"
   },
   "source": [
    "we can observe violin plots  with box plot for 3 hidden layers and 1 output layer"
   ]
  },
  {
   "cell_type": "markdown",
   "metadata": {
    "colab_type": "text",
    "id": "ZByCucyUQ0PZ"
   },
   "source": [
    "\n",
    " #  MLP + ReLU + ADAM \n",
    "\n",
    "## Architecture: 784----400----300----210--140---60-----10     (5 hidden layers)"
   ]
  },
  {
   "cell_type": "markdown",
   "metadata": {
    "colab_type": "text",
    "id": "C31zda2BRJD1"
   },
   "source": [
    "## Without Batch normalization and Dropout"
   ]
  },
  {
   "cell_type": "code",
   "execution_count": 52,
   "metadata": {
    "colab": {
     "base_uri": "https://localhost:8080/",
     "height": 955
    },
    "colab_type": "code",
    "id": "Ip3Qvhq3RMJ4",
    "outputId": "0a750546-4d2c-41e4-b365-e452c3ed5ddd"
   },
   "outputs": [
    {
     "name": "stdout",
     "output_type": "stream",
     "text": [
      "_________________________________________________________________\n",
      "Layer (type)                 Output Shape              Param #   \n",
      "=================================================================\n",
      "dense_7 (Dense)              (None, 360)               282600    \n",
      "_________________________________________________________________\n",
      "dense_8 (Dense)              (None, 60)                21660     \n",
      "_________________________________________________________________\n",
      "dense_9 (Dense)              (None, 10)                610       \n",
      "=================================================================\n",
      "Total params: 304,870\n",
      "Trainable params: 304,870\n",
      "Non-trainable params: 0\n",
      "_________________________________________________________________\n",
      "Train on 60000 samples, validate on 10000 samples\n",
      "Epoch 1/20\n",
      "60000/60000 [==============================] - 10s 169us/step - loss: 0.2350 - acc: 0.9294 - val_loss: 0.1442 - val_acc: 0.9573\n",
      "Epoch 2/20\n",
      "60000/60000 [==============================] - 9s 143us/step - loss: 0.0948 - acc: 0.9714 - val_loss: 0.1019 - val_acc: 0.9691\n",
      "Epoch 3/20\n",
      "60000/60000 [==============================] - 9s 143us/step - loss: 0.0667 - acc: 0.9788 - val_loss: 0.0794 - val_acc: 0.9740\n",
      "Epoch 4/20\n",
      "60000/60000 [==============================] - 9s 143us/step - loss: 0.0512 - acc: 0.9840 - val_loss: 0.1034 - val_acc: 0.9694\n",
      "Epoch 5/20\n",
      "60000/60000 [==============================] - 9s 146us/step - loss: 0.0399 - acc: 0.9873 - val_loss: 0.0869 - val_acc: 0.9751\n",
      "Epoch 6/20\n",
      "60000/60000 [==============================] - 9s 145us/step - loss: 0.0302 - acc: 0.9898 - val_loss: 0.0877 - val_acc: 0.9747\n",
      "Epoch 7/20\n",
      "60000/60000 [==============================] - 9s 146us/step - loss: 0.0297 - acc: 0.9902 - val_loss: 0.1128 - val_acc: 0.9696\n",
      "Epoch 8/20\n",
      "60000/60000 [==============================] - 9s 146us/step - loss: 0.0254 - acc: 0.9917 - val_loss: 0.0900 - val_acc: 0.9756\n",
      "Epoch 9/20\n",
      "60000/60000 [==============================] - 9s 145us/step - loss: 0.0275 - acc: 0.9911 - val_loss: 0.0931 - val_acc: 0.9770\n",
      "Epoch 10/20\n",
      "60000/60000 [==============================] - 9s 145us/step - loss: 0.0248 - acc: 0.9923 - val_loss: 0.0927 - val_acc: 0.9765\n",
      "Epoch 11/20\n",
      "60000/60000 [==============================] - 9s 146us/step - loss: 0.0207 - acc: 0.9937 - val_loss: 0.0851 - val_acc: 0.9796\n",
      "Epoch 12/20\n",
      "60000/60000 [==============================] - 9s 144us/step - loss: 0.0204 - acc: 0.9934 - val_loss: 0.0888 - val_acc: 0.9793\n",
      "Epoch 13/20\n",
      "60000/60000 [==============================] - 9s 146us/step - loss: 0.0197 - acc: 0.9938 - val_loss: 0.0818 - val_acc: 0.9792\n",
      "Epoch 14/20\n",
      "60000/60000 [==============================] - 9s 147us/step - loss: 0.0159 - acc: 0.9950 - val_loss: 0.0886 - val_acc: 0.9798\n",
      "Epoch 15/20\n",
      "60000/60000 [==============================] - 9s 147us/step - loss: 0.0168 - acc: 0.9947 - val_loss: 0.0974 - val_acc: 0.9777\n",
      "Epoch 16/20\n",
      "60000/60000 [==============================] - 9s 146us/step - loss: 0.0164 - acc: 0.9951 - val_loss: 0.1069 - val_acc: 0.9758\n",
      "Epoch 17/20\n",
      "60000/60000 [==============================] - 9s 151us/step - loss: 0.0119 - acc: 0.9961 - val_loss: 0.1051 - val_acc: 0.9782\n",
      "Epoch 18/20\n",
      "60000/60000 [==============================] - 9s 146us/step - loss: 0.0159 - acc: 0.9950 - val_loss: 0.1082 - val_acc: 0.9766\n",
      "Epoch 19/20\n",
      "60000/60000 [==============================] - 9s 147us/step - loss: 0.0126 - acc: 0.9961 - val_loss: 0.0959 - val_acc: 0.9799\n",
      "Epoch 20/20\n",
      "60000/60000 [==============================] - 9s 146us/step - loss: 0.0151 - acc: 0.9957 - val_loss: 0.1330 - val_acc: 0.9740\n"
     ]
    }
   ],
   "source": [
    "# Multilayer perceptron\n",
    "#from keras.layers import Dropout\n",
    "\n",
    "model_relu = Sequential()     #model \n",
    "\n",
    "#initialization: we can also  use He initialization\n",
    "model_relu.add(Dense(400, activation='relu', input_shape=(input_dim,),kernel_initializer=RandomNormal(mean=0.0, stddev=0.062, seed=None)))  #input dimensions to layer_1 = 784\n",
    "model_relu.add(Dense(300, activation='relu', kernel_initializer=RandomNormal(mean=0.0, stddev=0.125, seed=None)))\n",
    "model_relu.add(Dense(210, activation='relu', kernel_initializer=RandomNormal(mean=0.0, stddev=0.125, seed=None)))\n",
    "model_relu.add(Dense(140, activation='relu', kernel_initializer=RandomNormal(mean=0.0, stddev=0.125, seed=None)))\n",
    "model_relu.add(Dense(60, activation='relu', kernel_initializer=RandomNormal(mean=0.0, stddev=0.125, seed=None)))\n",
    "model_relu.add(Dense(output_dim, activation='softmax'))     #output dimensions 10\n",
    "\n",
    "model_sigmoid.summary()\n",
    "\n",
    "#compile the model \n",
    "\n",
    "model_relu.compile(optimizer='adam', loss='categorical_crossentropy', metrics=['accuracy'])\n",
    "\n",
    "history = model_relu.fit(X_train, Y_train, epochs=nb_epoch, batch_size=batch_size, verbose=1, validation_data=(X_test, Y_test))"
   ]
  },
  {
   "cell_type": "code",
   "execution_count": 53,
   "metadata": {
    "colab": {
     "base_uri": "https://localhost:8080/",
     "height": 318
    },
    "colab_type": "code",
    "id": "NVStUKO3RneY",
    "outputId": "aef19330-fdfe-4166-f611-1bff4eec056c"
   },
   "outputs": [
    {
     "name": "stdout",
     "output_type": "stream",
     "text": [
      "Test score: 0.13302001979017058\n",
      "Test accuracy: 0.974\n"
     ]
    },
    {
     "data": {
      "image/png": "[encoded data removed]",
      "text/plain": [
       "<Figure size 432x288 with 1 Axes>"
      ]
     },
     "metadata": {
      "tags": []
     },
     "output_type": "display_data"
    }
   ],
   "source": [
    "%matplotlib inline \n",
    "score = model_relu.evaluate(X_test, Y_test, verbose=0) \n",
    "print('Test score:', score[0]) \n",
    "print('Test accuracy:', score[1])\n",
    "\n",
    "fig,ax = plt.subplots(1,1)\n",
    "ax.set_xlabel('epoch') ; ax.set_ylabel('Categorical Crossentropy Loss')\n",
    "\n",
    "# list of epoch numbers\n",
    "x = list(range(1,nb_epoch+1))\n",
    "\n",
    "# print(history.history.keys())\n",
    "# dict_keys(['val_loss', 'val_acc', 'loss', 'acc'])\n",
    "# history = model_drop.fit(X_train, Y_train, batch_size=batch_size, epochs=nb_epoch, verbose=1, validation_data=(X_test, Y_test))\n",
    "\n",
    "# we will get val_loss and val_acc only when you pass the paramter validation_data\n",
    "# val_loss : validation loss\n",
    "# val_acc : validation accuracy\n",
    "\n",
    "# loss : training loss\n",
    "# acc : train accuracy\n",
    "# for each key in histrory.histrory we will have a list of length equal to number of epochs\n",
    "\n",
    "\n",
    "vy = history.history['val_loss']\n",
    "ty = history.history['loss']\n",
    "plt_dynamic(x, vy, ty, ax)\n"
   ]
  },
  {
   "cell_type": "markdown",
   "metadata": {
    "colab_type": "text",
    "id": "gkwd34xSWdQG"
   },
   "source": [
    "observation: according to the above error plot we could say model is with high overfit (without dropout and batch normalization) "
   ]
  },
  {
   "cell_type": "markdown",
   "metadata": {
    "colab_type": "text",
    "id": "4qjE1WOCSvaq"
   },
   "source": [
    "## With Batch normalization and Dropout"
   ]
  },
  {
   "cell_type": "code",
   "execution_count": 54,
   "metadata": {
    "colab": {
     "base_uri": "https://localhost:8080/",
     "height": 955
    },
    "colab_type": "code",
    "id": "A81lrz8wS411",
    "outputId": "433d5b27-6173-40a9-8ccd-742e08e0b53a"
   },
   "outputs": [
    {
     "name": "stdout",
     "output_type": "stream",
     "text": [
      "_________________________________________________________________\n",
      "Layer (type)                 Output Shape              Param #   \n",
      "=================================================================\n",
      "dense_7 (Dense)              (None, 360)               282600    \n",
      "_________________________________________________________________\n",
      "dense_8 (Dense)              (None, 60)                21660     \n",
      "_________________________________________________________________\n",
      "dense_9 (Dense)              (None, 10)                610       \n",
      "=================================================================\n",
      "Total params: 304,870\n",
      "Trainable params: 304,870\n",
      "Non-trainable params: 0\n",
      "_________________________________________________________________\n",
      "Train on 60000 samples, validate on 10000 samples\n",
      "Epoch 1/20\n",
      "60000/60000 [==============================] - 15s 250us/step - loss: 1.3742 - acc: 0.5524 - val_loss: 0.3114 - val_acc: 0.9107\n",
      "Epoch 2/20\n",
      "60000/60000 [==============================] - 12s 198us/step - loss: 0.5051 - acc: 0.8500 - val_loss: 0.2041 - val_acc: 0.9400\n",
      "Epoch 3/20\n",
      "60000/60000 [==============================] - 12s 200us/step - loss: 0.3509 - acc: 0.9018 - val_loss: 0.1568 - val_acc: 0.9552\n",
      "Epoch 4/20\n",
      "60000/60000 [==============================] - 12s 201us/step - loss: 0.2878 - acc: 0.9224 - val_loss: 0.1448 - val_acc: 0.9596\n",
      "Epoch 5/20\n",
      "60000/60000 [==============================] - 12s 201us/step - loss: 0.2511 - acc: 0.9337 - val_loss: 0.1289 - val_acc: 0.9647\n",
      "Epoch 6/20\n",
      "60000/60000 [==============================] - 12s 202us/step - loss: 0.2213 - acc: 0.9410 - val_loss: 0.1242 - val_acc: 0.9670\n",
      "Epoch 7/20\n",
      "60000/60000 [==============================] - 12s 202us/step - loss: 0.1995 - acc: 0.9471 - val_loss: 0.1047 - val_acc: 0.9726\n",
      "Epoch 8/20\n",
      "60000/60000 [==============================] - 12s 200us/step - loss: 0.1879 - acc: 0.9515 - val_loss: 0.1011 - val_acc: 0.9732\n",
      "Epoch 9/20\n",
      "60000/60000 [==============================] - 12s 203us/step - loss: 0.1725 - acc: 0.9555 - val_loss: 0.1007 - val_acc: 0.9722\n",
      "Epoch 10/20\n",
      "60000/60000 [==============================] - 12s 202us/step - loss: 0.1654 - acc: 0.9571 - val_loss: 0.0981 - val_acc: 0.9737\n",
      "Epoch 11/20\n",
      "60000/60000 [==============================] - 12s 201us/step - loss: 0.1548 - acc: 0.9594 - val_loss: 0.0960 - val_acc: 0.9746\n",
      "Epoch 12/20\n",
      "60000/60000 [==============================] - 12s 203us/step - loss: 0.1470 - acc: 0.9621 - val_loss: 0.0939 - val_acc: 0.9770\n",
      "Epoch 13/20\n",
      "60000/60000 [==============================] - 12s 197us/step - loss: 0.1404 - acc: 0.9642 - val_loss: 0.0864 - val_acc: 0.9776\n",
      "Epoch 14/20\n",
      "60000/60000 [==============================] - 12s 200us/step - loss: 0.1362 - acc: 0.9650 - val_loss: 0.0807 - val_acc: 0.9797\n",
      "Epoch 15/20\n",
      "60000/60000 [==============================] - 12s 200us/step - loss: 0.1290 - acc: 0.9670 - val_loss: 0.0880 - val_acc: 0.9787\n",
      "Epoch 16/20\n",
      "60000/60000 [==============================] - 12s 200us/step - loss: 0.1237 - acc: 0.9686 - val_loss: 0.0783 - val_acc: 0.9804\n",
      "Epoch 17/20\n",
      "60000/60000 [==============================] - 12s 201us/step - loss: 0.1218 - acc: 0.9683 - val_loss: 0.0792 - val_acc: 0.9794\n",
      "Epoch 18/20\n",
      "60000/60000 [==============================] - 12s 202us/step - loss: 0.1108 - acc: 0.9712 - val_loss: 0.0792 - val_acc: 0.9808\n",
      "Epoch 19/20\n",
      "60000/60000 [==============================] - 12s 199us/step - loss: 0.1128 - acc: 0.9709 - val_loss: 0.0779 - val_acc: 0.9809\n",
      "Epoch 20/20\n",
      "60000/60000 [==============================] - 12s 201us/step - loss: 0.1084 - acc: 0.9717 - val_loss: 0.0731 - val_acc: 0.9811\n"
     ]
    }
   ],
   "source": [
    "# Multilayer perceptron\n",
    "from keras.layers import Dropout\n",
    "from keras.layers.normalization import BatchNormalization\n",
    "\n",
    "model_relu = Sequential()     #model \n",
    "\n",
    "#initialization: we can also  use He initialization\n",
    "model_relu.add(Dense(400, activation='relu', input_shape=(input_dim,),kernel_initializer=RandomNormal(mean=0.0, stddev=0.062, seed=None)))  #input dimensions to layer_1 = 784\n",
    "model_relu.add(BatchNormalization())\n",
    "model_relu.add(Dropout(0.5))\n",
    "\n",
    "model_relu.add(Dense(300, activation='relu', kernel_initializer=RandomNormal(mean=0.0, stddev=0.125, seed=None)))\n",
    "model_relu.add(BatchNormalization())\n",
    "model_relu.add(Dropout(0.5))\n",
    "\n",
    "model_relu.add(Dense(210, activation='relu', kernel_initializer=RandomNormal(mean=0.0, stddev=0.125, seed=None)))\n",
    "model_relu.add(BatchNormalization())\n",
    "model_relu.add(Dropout(0.5))\n",
    "\n",
    "model_relu.add(Dense(140, activation='relu', kernel_initializer=RandomNormal(mean=0.0, stddev=0.125, seed=None)))\n",
    "model_relu.add(BatchNormalization())\n",
    "model_relu.add(Dropout(0.5))\n",
    "\n",
    "model_relu.add(Dense(60, activation='relu', kernel_initializer=RandomNormal(mean=0.0, stddev=0.125, seed=None)))\n",
    "model_relu.add(BatchNormalization())\n",
    "model_relu.add(Dropout(0.5))\n",
    "\n",
    "\n",
    "model_relu.add(Dense(output_dim, activation='softmax'))     #output dimensions 10\n",
    "\n",
    "model_sigmoid.summary()\n",
    "\n",
    "#compile the model \n",
    "\n",
    "model_relu.compile(optimizer='adam', loss='categorical_crossentropy', metrics=['accuracy'])\n",
    "\n",
    "history = model_relu.fit(X_train, Y_train, epochs=nb_epoch,batch_size=batch_size, verbose=1, validation_data=(X_test, Y_test))"
   ]
  },
  {
   "cell_type": "code",
   "execution_count": 55,
   "metadata": {
    "colab": {
     "base_uri": "https://localhost:8080/",
     "height": 318
    },
    "colab_type": "code",
    "id": "TcSeTYqcTZbW",
    "outputId": "57c9d273-6eda-48bc-85c1-ad6a3060c3d4"
   },
   "outputs": [
    {
     "name": "stdout",
     "output_type": "stream",
     "text": [
      "Test score: 0.07313074707649649\n",
      "Test accuracy: 0.9811\n"
     ]
    },
    {
     "data": {
      "image/png": "[encoded data removed]",
      "text/plain": [
       "<Figure size 432x288 with 1 Axes>"
      ]
     },
     "metadata": {
      "tags": []
     },
     "output_type": "display_data"
    }
   ],
   "source": [
    "%matplotlib inline \n",
    "score = model_relu.evaluate(X_test, Y_test, verbose=0) \n",
    "print('Test score:', score[0]) \n",
    "print('Test accuracy:', score[1])\n",
    "\n",
    "fig,ax = plt.subplots(1,1)\n",
    "ax.set_xlabel('epoch') ; ax.set_ylabel('Categorical Crossentropy Loss')\n",
    "\n",
    "# list of epoch numbers\n",
    "x = list(range(1,nb_epoch+1))\n",
    "\n",
    "\n",
    "vy = history.history['val_loss']\n",
    "ty = history.history['loss']\n",
    "plt_dynamic(x, vy, ty, ax)\n"
   ]
  },
  {
   "cell_type": "markdown",
   "metadata": {
    "colab_type": "text",
    "id": "6mq70z4rWW-8"
   },
   "source": [
    "observation:  from 2.5 epoch to 20 epoch train/test loss is decresed "
   ]
  },
  {
   "cell_type": "markdown",
   "metadata": {
    "colab_type": "text",
    "id": "tgSLYU2fUjUa"
   },
   "source": [
    "### Violin Plot for weights (hidden layers )"
   ]
  },
  {
   "cell_type": "code",
   "execution_count": 62,
   "metadata": {
    "colab": {
     "base_uri": "https://localhost:8080/",
     "height": 629
    },
    "colab_type": "code",
    "id": "7r5rFM0jUYgk",
    "outputId": "759c6ea8-b475-480c-afe2-e26bb5a2e1e9"
   },
   "outputs": [
    {
     "data": {
      "text/plain": [
       "<Figure size 432x288 with 0 Axes>"
      ]
     },
     "metadata": {
      "tags": []
     },
     "output_type": "display_data"
    },
    {
     "data": {
      "image/png": "[encoded data removed]",
      "text/plain": [
       "<Figure size 720x720 with 6 Axes>"
      ]
     },
     "metadata": {
      "tags": []
     },
     "output_type": "display_data"
    }
   ],
   "source": [
    "w_after = model_relu.get_weights()   #get all weights \n",
    "\n",
    "h1_w = w_after[0].flatten().reshape(-1,1)\n",
    "h2_w = w_after[1].flatten().reshape(-1,1)\n",
    "h3_w = w_after[2].flatten().reshape(-1,1)\n",
    "h4_w = w_after[3].flatten().reshape(-1,1)\n",
    "h5_w = w_after[4].flatten().reshape(-1,1)\n",
    "out_w = w_after[5].flatten().reshape(-1,1)\n",
    "\n",
    "\n",
    "fig = plt.figure()\n",
    "plt.figure(figsize=(10,10))\n",
    "plt.title(\"Weight matrices after model trained\")\n",
    "plt.subplot(1, 6, 1)\n",
    "plt.title(\"Trained model Weights\")\n",
    "ax = sns.violinplot(y=h1_w,color='b')\n",
    "plt.xlabel('Hidden Layer 1')\n",
    "\n",
    "plt.subplot(1, 6, 2)\n",
    "plt.title(\"Trained model Weights\")\n",
    "ax = sns.violinplot(y=h2_w, color='r')\n",
    "plt.xlabel('Hidden Layer 2 ')\n",
    "\n",
    "plt.subplot(1, 6, 3)\n",
    "plt.title(\"Trained model Weights\")\n",
    "ax = sns.violinplot(y=h3_w, color='g')\n",
    "plt.xlabel('Hidden Layer 3 ')\n",
    "\n",
    "plt.subplot(1, 6, 4)\n",
    "plt.title(\"Trained model Weights\")\n",
    "ax = sns.violinplot(y=h4_w, color='b')\n",
    "plt.xlabel('Hidden Layer 4 ')\n",
    "\n",
    "plt.subplot(1, 6, 5)\n",
    "plt.title(\"Trained model Weights\")\n",
    "ax = sns.violinplot(y=h5_w, color='g')\n",
    "plt.xlabel('Hidden Layer 5 ')\n",
    "\n",
    "plt.subplot(1, 6, 6)\n",
    "plt.title(\"Trained model Weights\")\n",
    "ax = sns.violinplot(y=out_w,color='y')\n",
    "plt.xlabel('Output Layer ')\n",
    "plt.show()"
   ]
  },
  {
   "cell_type": "markdown",
   "metadata": {
    "colab_type": "text",
    "id": "pUAqKKsDWPdV"
   },
   "source": [
    "we can observe violin plots  with box plot for 3 hidden layers and 1 output layer"
   ]
  },
  {
   "cell_type": "markdown",
   "metadata": {
    "colab_type": "text",
    "id": "Rh2EzAsVXDEQ"
   },
   "source": [
    "# Summary(Conclusion):\n",
    "* initially we have taken  MNIST dataset from keras, and we converted 28*28 each datapoints into 784 dimensional datapoints(then we have performed normalization on data.\n",
    "*  we have converted  each class label into 10-dimensional vector.\n",
    "* we did perform simple softmax classifier and then we got logloss and accuracy values\n",
    "*  after that softmax classifier we have perormed  ReLU activation function  + ADAM optimization  with \n",
    "Architecture: 784----360----60-----10 (2 hidden layers), with batch normalization and dropout functions.\n",
    "* after that we have applied  Architecture: 784----400----100----40-----10 (3 hidden layers) \n",
    "with batch normalization and dropout functions, then we did plot loss (vs ) each epoch plot.\n",
    "* after that we have applied  Architecture: 784----400----300----210--140---60-----10 (5 hidden layers)\n",
    "with batch normalization and dropout functions, then we did plot loss (vs ) each epoch plot.\n",
    "\n"
   ]
  },
  {
   "cell_type": "markdown",
   "metadata": {
    "colab_type": "text",
    "id": "9LmCZd2oaepQ"
   },
   "source": [
    "# Summary in Tabular form\n",
    "### all results summarized in the tabular form"
   ]
  },
  {
   "cell_type": "code",
   "execution_count": 68,
   "metadata": {
    "colab": {
     "base_uri": "https://localhost:8080/",
     "height": 156
    },
    "colab_type": "code",
    "id": "wHtZUUPkaf19",
    "outputId": "d2fd4162-66ed-43b4-aa81-d0b653a3308a"
   },
   "outputs": [
    {
     "name": "stdout",
     "output_type": "stream",
     "text": [
      "+----------------------------------+------------------------------------------+---------------+----------+\n",
      "|              model               |               architecture               | multi-logloss | accuracy |\n",
      "+----------------------------------+------------------------------------------+---------------+----------+\n",
      "|        softmax_classifier        |                    -                     |     0.3542    |  0.9089  |\n",
      "| MLP+ReLu+Adam(dropout&batchnorm) |       784-360-60-10(2hiddenlayers)       |     0.0704    |  0.9826  |\n",
      "| MLP+ReLu+Adam(dropout&batchnorm) |     784-400-100-40-10(3hiddenlayers)     |     0.0957    |  0.9799  |\n",
      "| MLP+ReLu+Adam(dropout&batchnorm) | 784-400-300-210-140-60-10(5hiddenlayers) |     0.1084    |  0.9811  |\n",
      "+----------------------------------+------------------------------------------+---------------+----------+\n"
     ]
    }
   ],
   "source": [
    "#http://zetcode.com/python/prettytable/\n",
    "from prettytable import PrettyTable\n",
    "a = PrettyTable()\n",
    "a.field_names = [\"model\",\"architecture\",\"multi-logloss\",\"accuracy\"]\n",
    "\n",
    "a.add_row([\"softmax_classifier\",\"-\",0.3542,0.9089 ])\n",
    "a.add_row([\"MLP+ReLu+Adam(dropout&batchnorm)\",\"784-360-60-10(2hiddenlayers)\",0.0704,0.9826])\n",
    "a.add_row([\"MLP+ReLu+Adam(dropout&batchnorm)\",\"784-400-100-40-10(3hiddenlayers)\",0.0957,0.9799])\n",
    "a.add_row([\"MLP+ReLu+Adam(dropout&batchnorm)\",\"784-400-300-210-140-60-10(5hiddenlayers)\",0.1084,0.9811])\n",
    "print(a)"
   ]
  }
 ],
 "metadata": {
  "colab": {
   "collapsed_sections": [],
   "name": "Keras_on_MNIST_dataset.ipynb",
   "provenance": [],
   "version": "0.3.2"
  },
  "kernelspec": {
   "display_name": "Python 3",
   "language": "python",
   "name": "python3"
  },
  "language_info": {
   "codemirror_mode": {
    "name": "ipython",
    "version": 3
   },
   "file_extension": ".py",
   "mimetype": "text/x-python",
   "name": "python",
   "nbconvert_exporter": "python",
   "pygments_lexer": "ipython3",
   "version": "3.6.8"
  }
 },
 "nbformat": 4,
 "nbformat_minor": 1
}
